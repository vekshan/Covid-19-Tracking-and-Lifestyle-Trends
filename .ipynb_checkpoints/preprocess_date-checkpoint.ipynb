{
 "cells": [
  {
   "cell_type": "code",
   "execution_count": 1,
   "id": "royal-details",
   "metadata": {},
   "outputs": [
    {
     "ename": "ModuleNotFoundError",
     "evalue": "No module named 'holidays'",
     "output_type": "error",
     "traceback": [
      "\u001b[1;31m---------------------------------------------------------------------------\u001b[0m",
      "\u001b[1;31mModuleNotFoundError\u001b[0m                       Traceback (most recent call last)",
      "\u001b[1;32m<ipython-input-1-0b3a25d4c049>\u001b[0m in \u001b[0;36m<module>\u001b[1;34m\u001b[0m\n\u001b[0;32m      1\u001b[0m \u001b[1;32mimport\u001b[0m \u001b[0mpandas\u001b[0m \u001b[1;32mas\u001b[0m \u001b[0mpd\u001b[0m\u001b[1;33m\u001b[0m\u001b[1;33m\u001b[0m\u001b[0m\n\u001b[0;32m      2\u001b[0m \u001b[1;32mimport\u001b[0m \u001b[0mnumpy\u001b[0m \u001b[1;32mas\u001b[0m \u001b[0mnp\u001b[0m\u001b[1;33m\u001b[0m\u001b[1;33m\u001b[0m\u001b[0m\n\u001b[1;32m----> 3\u001b[1;33m \u001b[1;32mimport\u001b[0m \u001b[0mholidays\u001b[0m\u001b[1;33m\u001b[0m\u001b[1;33m\u001b[0m\u001b[0m\n\u001b[0m\u001b[0;32m      4\u001b[0m \u001b[1;33m\u001b[0m\u001b[0m\n\u001b[0;32m      5\u001b[0m \u001b[1;32mfrom\u001b[0m \u001b[0mdatetime\u001b[0m \u001b[1;32mimport\u001b[0m \u001b[0mdatetime\u001b[0m\u001b[1;33m,\u001b[0m \u001b[0mtimedelta\u001b[0m\u001b[1;33m\u001b[0m\u001b[1;33m\u001b[0m\u001b[0m\n",
      "\u001b[1;31mModuleNotFoundError\u001b[0m: No module named 'holidays'"
     ]
    }
   ],
   "source": [
    "import pandas as pd\n",
    "import numpy as np\n",
    "import holidays\n",
    "\n",
    "from datetime import datetime, timedelta"
   ]
  },
  {
   "cell_type": "code",
   "execution_count": null,
   "id": "colored-racing",
   "metadata": {},
   "outputs": [],
   "source": [
    "dates_july_oct_2020 = pd.date_range(start=\"2020-07-01\", end=\"2020-10-31\")\n",
    "\n",
    "canada_ontario_holiday_dates_2020 = {}\n",
    "\n",
    "for date in holidays.Canada(years=2020).items():\n",
    "    canada_ontario_holiday_dates_2020[str(date[0])] = str(date[1])\n",
    "\n",
    "seasons = {1:\"Winter\", 2:\"Spring\", 3:\"Summer\", 4:\"Autumn\"}\n",
    "\n",
    "day_list = []\n",
    "month_list = []\n",
    "year_list = []\n",
    "day_of_week = []\n",
    "quarter = []\n",
    "week_in_year = []\n",
    "is_holiday = []\n",
    "holiday_names = []\n",
    "dates_season = []\n",
    "is_weekend = []\n",
    "is_week_day = []\n",
    "\n",
    "for i in range(len(dates_july_oct_2020)):\n",
    "    day_list.append(dates_july_oct_2020[i].day)\n",
    "    month_list.append(dates_july_oct_2020[i].month)\n",
    "    year_list.append(dates_july_oct_2020[i].year)\n",
    "    day_of_week.append(dates_july_oct_2020[i].day_of_week)\n",
    "    quarter.append(dates_july_oct_2020[i].quarter)\n",
    "    week_in_year.append(dates_july_oct_2020[i].weekofyear)\n",
    "    is_holiday.append(1 if str(dates_july_oct_2020[i]).split()[0] in canada_ontario_holiday_dates_2020 else 0)\n",
    "    holiday_names.append(canada_ontario_holiday_dates_2020[str(dates_july_oct_2020[i]).split()[0]] if str(dates_july_oct_2020[i]).split()[0] in canada_ontario_holiday_dates_2020 else None)\n",
    "    dates_season.append(seasons[(dates_july_oct_2020[i].month%12 + 3)//3])\n",
    "    is_weekend.append(1 if dates_july_oct_2020[i].day_of_week >= 5 else 0)\n",
    "    is_week_day.append(1 if dates_july_oct_2020[i].day_of_week < 5 else 0)\n",
    "\n",
    "result = {\n",
    "    \"full_date\": dates_july_oct_2020,\n",
    "    \"day\": day_list, \n",
    "    \"month\": month_list, \n",
    "    \"year\": year_list, \n",
    "    \"day_of_week\": day_of_week, \n",
    "    \"week_in_year\": week_in_year,\n",
    "    \"quarter\": quarter,\n",
    "    \"is_weekend\": is_weekend, \n",
    "    \"is_week_day\": is_week_day, \n",
    "    \"is_holiday\": is_holiday,\n",
    "    \"holiday_name\": holiday_names,\n",
    "    \"season\": dates_season\n",
    "         }\n",
    "\n",
    "df_july_oct_2020 = pd.DataFrame(result)\n",
    "\n",
    "df_july_oct_2020.head()"
   ]
  },
  {
   "cell_type": "code",
   "execution_count": null,
   "id": "pretty-carnival",
   "metadata": {},
   "outputs": [],
   "source": []
  }
 ],
 "metadata": {
  "kernelspec": {
   "display_name": "Python 3",
   "language": "python",
   "name": "python3"
  },
  "language_info": {
   "codemirror_mode": {
    "name": "ipython",
    "version": 3
   },
   "file_extension": ".py",
   "mimetype": "text/x-python",
   "name": "python",
   "nbconvert_exporter": "python",
   "pygments_lexer": "ipython3",
   "version": "3.9.1"
  }
 },
 "nbformat": 4,
 "nbformat_minor": 5
}
