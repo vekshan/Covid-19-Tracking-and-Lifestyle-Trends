{
 "cells": [
  {
   "cell_type": "code",
   "execution_count": 1,
   "metadata": {},
   "outputs": [],
   "source": [
    "import pandas as pd\n",
    "import numpy as np\n",
    "\n",
    "from datetime import datetime, timedelta"
   ]
  },
  {
   "cell_type": "code",
   "execution_count": 2,
   "metadata": {},
   "outputs": [],
   "source": [
    "cases = pd.read_csv(\"conposcovidloc.csv\")\n",
    "cases = cases[(cases['Accurate_Episode_Date'] >= '2020-07-01') & (cases['Accurate_Episode_Date'] < '2020-11-01')]\n",
    "cases = cases[cases['Reporting_PHU_City'].isin(['Mississauga', 'Oakville', 'Newmarket','Whitby','Toronto','Ottawa'])]"
   ]
  },
  {
   "cell_type": "markdown",
   "metadata": {},
   "source": [
    "### Create the dimension for Patient"
   ]
  },
  {
   "cell_type": "markdown",
   "metadata": {},
   "source": [
    "#### Subset the columns for Patient "
   ]
  },
  {
   "cell_type": "code",
   "execution_count": 3,
   "metadata": {},
   "outputs": [],
   "source": [
    "Patient_dimension = cases[['Row_ID','Client_Gender','Age_Group','Case_AcquisitionInfo', 'Outbreak_Related']].copy()\n",
    "Patient_dimension.reset_index(drop=True, inplace =True)\n",
    "Patient_dimension.columns = ['Patient_ID', 'Gender', 'Age_Group', 'Acquisition_Group', 'Outbreak_Related']"
   ]
  },
  {
   "cell_type": "markdown",
   "metadata": {},
   "source": [
    "#### Make a community spread class in Acquisition Group"
   ]
  },
  {
   "cell_type": "code",
   "execution_count": 4,
   "metadata": {},
   "outputs": [
    {
     "data": {
      "text/plain": [
       "array(['CC', 'OB', 'CS', 'TRAVEL', 'MISSING INFORMATION'], dtype=object)"
      ]
     },
     "execution_count": 4,
     "metadata": {},
     "output_type": "execute_result"
    }
   ],
   "source": [
    " # A ‘case with an epidemiological link’ is a case that has either been exposed to a confirmed case, \n",
    " # or has had the same exposure as a confirmed case (e.g. eaten the same food, stayed in the same hotel, etc).\n",
    " # https://deputyprimeminister.gov.mt/en/health-promotion/idpcu/Pages/casedefinition.aspx\n",
    "Patient_dimension['Acquisition_Group'].replace({'NO KNOWN EPI LINK': 'CS', 'UNSPECIFIED EPI LINK':'CS'}, inplace = True)\n",
    "Patient_dimension.Acquisition_Group.unique()"
   ]
  },
  {
   "cell_type": "markdown",
   "metadata": {},
   "source": [
    "#### Make Outbreak_Related column boolean and remove NaN values"
   ]
  },
  {
   "cell_type": "code",
   "execution_count": 5,
   "metadata": {},
   "outputs": [],
   "source": [
    "Patient_dimension['Outbreak_Related'].replace({'Yes': '1'}, inplace = True)\n",
    "Patient_dimension.Outbreak_Related.fillna(0, inplace = True)"
   ]
  },
  {
   "cell_type": "code",
   "execution_count": 6,
   "metadata": {},
   "outputs": [],
   "source": [
    "Patient_dimension.insert(0, \"Patient_surrogate_key\",  np.arange(len(Patient_dimension)))"
   ]
  },
  {
   "cell_type": "code",
   "execution_count": 7,
   "metadata": {},
   "outputs": [],
   "source": [
    "Patient_dimension.to_csv('Patient_dimension.csv',index = False, header=True)"
   ]
  },
  {
   "cell_type": "markdown",
   "metadata": {},
   "source": [
    "\n",
    "### Create the PHU dimension"
   ]
  },
  {
   "cell_type": "markdown",
   "metadata": {},
   "source": [
    "#### Subset the columns for PHU_Location"
   ]
  },
  {
   "cell_type": "code",
   "execution_count": 8,
   "metadata": {},
   "outputs": [],
   "source": [
    "PHU_Location_dimension = cases[['Reporting_PHU_ID', 'Reporting_PHU','Reporting_PHU_Address','Reporting_PHU_City','Reporting_PHU_Postal_Code','Reporting_PHU_Website','Reporting_PHU_Latitude','Reporting_PHU_Longitude']].copy()\n",
    "PHU_Location_dimension.drop_duplicates(subset=None, keep='first', inplace=True, ignore_index=True)\n",
    "PHU_Location_dimension.columns = ['PHU_Location_ID', 'PHU_Name', 'Address', 'City', 'Postal_Code', 'URL', 'Latitude', 'Longitude']"
   ]
  },
  {
   "cell_type": "markdown",
   "metadata": {},
   "source": [
    "#### Add Province and PHU_Location_surrogate_key"
   ]
  },
  {
   "cell_type": "code",
   "execution_count": 9,
   "metadata": {},
   "outputs": [],
   "source": [
    "PHU_Location_dimension.insert(5, 'Province',  'ON')\n",
    "PHU_Location_dimension.insert(0, \"PHU_Location_surrogate_key\",  np.arange(len(PHU_Location_dimension)))"
   ]
  },
  {
   "cell_type": "code",
   "execution_count": 10,
   "metadata": {},
   "outputs": [],
   "source": [
    "PHU_Location_dimension.to_csv('PHU_Location_dimension.csv',index = False, header=True)"
   ]
  }
 ],
 "metadata": {
  "kernelspec": {
   "display_name": "Python 3",
   "language": "python",
   "name": "python3"
  },
  "language_info": {
   "codemirror_mode": {
    "name": "ipython",
    "version": 3
   },
   "file_extension": ".py",
   "mimetype": "text/x-python",
   "name": "python",
   "nbconvert_exporter": "python",
   "pygments_lexer": "ipython3",
   "version": "3.8.5"
  }
 },
 "nbformat": 4,
 "nbformat_minor": 4
}
