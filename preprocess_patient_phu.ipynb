{
 "cells": [
  {
   "cell_type": "code",
   "execution_count": 1,
   "metadata": {},
   "outputs": [],
   "source": [
    "import pandas as pd\n",
    "import numpy as np\n",
    "\n",
    "from datetime import datetime, timedelta"
   ]
  },
  {
   "cell_type": "code",
   "execution_count": 2,
   "metadata": {},
   "outputs": [],
   "source": [
    "cases = pd.read_csv(\"conposcovidloc.csv\")\n",
    "cases = cases[(cases['Accurate_Episode_Date'] >= '2020-07-01') & (cases['Accurate_Episode_Date'] < '2020-11-01')]"
   ]
  },
  {
   "cell_type": "markdown",
   "metadata": {},
   "source": [
    "### Create the dimension for Patient"
   ]
  },
  {
   "cell_type": "markdown",
   "metadata": {},
   "source": [
    "#### Subset the columns for Patient "
   ]
  },
  {
   "cell_type": "code",
   "execution_count": 3,
   "metadata": {},
   "outputs": [],
   "source": [
    "Patient_dimension = cases[['Row_ID','Client_Gender','Age_Group','Case_AcquisitionInfo', 'Outbreak_Related']].copy()\n",
    "Patient_dimension.reset_index(drop=True, inplace =True)\n",
    "Patient_dimension.columns = ['Patient_ID', 'Gender', 'Age_Group', 'Acquisition_Group', 'Outbreak_Related']"
   ]
  },
  {
   "cell_type": "markdown",
   "metadata": {},
   "source": [
    "#### Make a community spread class in Acquisition Group"
   ]
  },
  {
   "cell_type": "code",
   "execution_count": 4,
   "metadata": {},
   "outputs": [
    {
     "data": {
      "text/plain": [
       "array(['CC', 'OB', 'CS', 'TRAVEL', 'MISSING INFORMATION'], dtype=object)"
      ]
     },
     "execution_count": 4,
     "metadata": {},
     "output_type": "execute_result"
    }
   ],
   "source": [
    " # A ‘case with an epidemiological link’ is a case that has either been exposed to a confirmed case, \n",
    " # or has had the same exposure as a confirmed case (e.g. eaten the same food, stayed in the same hotel, etc).\n",
    " # https://deputyprimeminister.gov.mt/en/health-promotion/idpcu/Pages/casedefinition.aspx\n",
    "Patient_dimension['Acquisition_Group'].replace({'NO KNOWN EPI LINK': 'CS', 'UNSPECIFIED EPI LINK':'CS'}, inplace = True)\n",
    "Patient_dimension.Acquisition_Group.unique()"
   ]
  },
  {
   "cell_type": "markdown",
   "metadata": {},
   "source": [
    "#### Make Outbreak_Related column boolean and remove NaN values"
   ]
  },
  {
   "cell_type": "code",
   "execution_count": 5,
   "metadata": {},
   "outputs": [],
   "source": [
    "Patient_dimension['Outbreak_Related'].replace({'Yes': '1'}, inplace = True)\n",
    "Patient_dimension.Outbreak_Related.fillna(0, inplace = True)"
   ]
  },
  {
   "cell_type": "code",
   "execution_count": 6,
   "metadata": {},
   "outputs": [],
   "source": [
    "Patient_dimension.insert(0, \"Patient_surrogate_key\",  np.arange(len(Patient_dimension)))"
   ]
  },
  {
   "cell_type": "code",
   "execution_count": 7,
   "metadata": {},
   "outputs": [
    {
     "data": {
      "text/html": [
       "<div>\n",
       "<style scoped>\n",
       "    .dataframe tbody tr th:only-of-type {\n",
       "        vertical-align: middle;\n",
       "    }\n",
       "\n",
       "    .dataframe tbody tr th {\n",
       "        vertical-align: top;\n",
       "    }\n",
       "\n",
       "    .dataframe thead th {\n",
       "        text-align: right;\n",
       "    }\n",
       "</style>\n",
       "<table border=\"1\" class=\"dataframe\">\n",
       "  <thead>\n",
       "    <tr style=\"text-align: right;\">\n",
       "      <th></th>\n",
       "      <th>Patient_surrogate_key</th>\n",
       "      <th>Patient_ID</th>\n",
       "      <th>Gender</th>\n",
       "      <th>Age_Group</th>\n",
       "      <th>Acquisition_Group</th>\n",
       "      <th>Outbreak_Related</th>\n",
       "    </tr>\n",
       "  </thead>\n",
       "  <tbody>\n",
       "    <tr>\n",
       "      <th>0</th>\n",
       "      <td>0</td>\n",
       "      <td>91</td>\n",
       "      <td>MALE</td>\n",
       "      <td>30s</td>\n",
       "      <td>CC</td>\n",
       "      <td>0</td>\n",
       "    </tr>\n",
       "    <tr>\n",
       "      <th>1</th>\n",
       "      <td>1</td>\n",
       "      <td>163</td>\n",
       "      <td>MALE</td>\n",
       "      <td>50s</td>\n",
       "      <td>CC</td>\n",
       "      <td>1</td>\n",
       "    </tr>\n",
       "    <tr>\n",
       "      <th>2</th>\n",
       "      <td>2</td>\n",
       "      <td>203</td>\n",
       "      <td>FEMALE</td>\n",
       "      <td>40s</td>\n",
       "      <td>CC</td>\n",
       "      <td>0</td>\n",
       "    </tr>\n",
       "    <tr>\n",
       "      <th>3</th>\n",
       "      <td>3</td>\n",
       "      <td>215</td>\n",
       "      <td>MALE</td>\n",
       "      <td>40s</td>\n",
       "      <td>OB</td>\n",
       "      <td>0</td>\n",
       "    </tr>\n",
       "    <tr>\n",
       "      <th>4</th>\n",
       "      <td>4</td>\n",
       "      <td>217</td>\n",
       "      <td>FEMALE</td>\n",
       "      <td>50s</td>\n",
       "      <td>CS</td>\n",
       "      <td>0</td>\n",
       "    </tr>\n",
       "  </tbody>\n",
       "</table>\n",
       "</div>"
      ],
      "text/plain": [
       "   Patient_surrogate_key  Patient_ID  Gender Age_Group Acquisition_Group  \\\n",
       "0                      0          91    MALE       30s                CC   \n",
       "1                      1         163    MALE       50s                CC   \n",
       "2                      2         203  FEMALE       40s                CC   \n",
       "3                      3         215    MALE       40s                OB   \n",
       "4                      4         217  FEMALE       50s                CS   \n",
       "\n",
       "  Outbreak_Related  \n",
       "0                0  \n",
       "1                1  \n",
       "2                0  \n",
       "3                0  \n",
       "4                0  "
      ]
     },
     "execution_count": 7,
     "metadata": {},
     "output_type": "execute_result"
    }
   ],
   "source": [
    "Patient_dimension.head()"
   ]
  },
  {
   "cell_type": "markdown",
   "metadata": {},
   "source": [
    "\n",
    "### Create the PHU dimension"
   ]
  },
  {
   "cell_type": "markdown",
   "metadata": {},
   "source": [
    "#### Subset the columns for PHU_Location"
   ]
  },
  {
   "cell_type": "code",
   "execution_count": 8,
   "metadata": {},
   "outputs": [],
   "source": [
    "PHU_Location_dimension = cases[['Reporting_PHU_ID', 'Reporting_PHU','Reporting_PHU_Address','Reporting_PHU_City','Reporting_PHU_Postal_Code','Reporting_PHU_Website','Reporting_PHU_Latitude','Reporting_PHU_Longitude']].copy()\n",
    "PHU_Location_dimension.drop_duplicates(subset=None, keep='first', inplace=True, ignore_index=True)\n",
    "PHU_Location_dimension.columns = ['PHU_Location_ID', 'PHU_Name', 'Address', 'City', 'Postal_Code', 'URL', 'Latitude', 'Longitude']"
   ]
  },
  {
   "cell_type": "markdown",
   "metadata": {},
   "source": [
    "#### Add Province and PHU_Location_surrogate_key"
   ]
  },
  {
   "cell_type": "code",
   "execution_count": 9,
   "metadata": {},
   "outputs": [],
   "source": [
    "PHU_Location_dimension.insert(5, 'Province',  'ON')\n",
    "PHU_Location_dimension.insert(0, \"PHU_Location_surrogate_key\",  np.arange(len(PHU_Location_dimension)))"
   ]
  },
  {
   "cell_type": "code",
   "execution_count": 10,
   "metadata": {},
   "outputs": [
    {
     "data": {
      "text/html": [
       "<div>\n",
       "<style scoped>\n",
       "    .dataframe tbody tr th:only-of-type {\n",
       "        vertical-align: middle;\n",
       "    }\n",
       "\n",
       "    .dataframe tbody tr th {\n",
       "        vertical-align: top;\n",
       "    }\n",
       "\n",
       "    .dataframe thead th {\n",
       "        text-align: right;\n",
       "    }\n",
       "</style>\n",
       "<table border=\"1\" class=\"dataframe\">\n",
       "  <thead>\n",
       "    <tr style=\"text-align: right;\">\n",
       "      <th></th>\n",
       "      <th>PHU_Location_surrogate_key</th>\n",
       "      <th>PHU_Location_ID</th>\n",
       "      <th>PHU_Name</th>\n",
       "      <th>Address</th>\n",
       "      <th>City</th>\n",
       "      <th>Postal_Code</th>\n",
       "      <th>Province</th>\n",
       "      <th>URL</th>\n",
       "      <th>Latitude</th>\n",
       "      <th>Longitude</th>\n",
       "    </tr>\n",
       "  </thead>\n",
       "  <tbody>\n",
       "    <tr>\n",
       "      <th>0</th>\n",
       "      <td>0</td>\n",
       "      <td>2253</td>\n",
       "      <td>Peel Public Health</td>\n",
       "      <td>7120 Hurontario Street</td>\n",
       "      <td>Mississauga</td>\n",
       "      <td>L5W 1N4</td>\n",
       "      <td>ON</td>\n",
       "      <td>www.peelregion.ca/health/</td>\n",
       "      <td>43.647471</td>\n",
       "      <td>-79.708893</td>\n",
       "    </tr>\n",
       "    <tr>\n",
       "      <th>1</th>\n",
       "      <td>1</td>\n",
       "      <td>2236</td>\n",
       "      <td>Halton Region Health Department</td>\n",
       "      <td>1151 Bronte Road</td>\n",
       "      <td>Oakville</td>\n",
       "      <td>L6M 3Ll</td>\n",
       "      <td>ON</td>\n",
       "      <td>www.halton.ca/For-Residents/Public-Health/</td>\n",
       "      <td>43.413997</td>\n",
       "      <td>-79.744796</td>\n",
       "    </tr>\n",
       "    <tr>\n",
       "      <th>2</th>\n",
       "      <td>2</td>\n",
       "      <td>2241</td>\n",
       "      <td>Kingston, Frontenac and Lennox &amp; Addington Pub...</td>\n",
       "      <td>221 Portsmouth Avenue</td>\n",
       "      <td>Kingston</td>\n",
       "      <td>K7M 1V5</td>\n",
       "      <td>ON</td>\n",
       "      <td>www.kflaph.ca</td>\n",
       "      <td>44.227874</td>\n",
       "      <td>-76.525211</td>\n",
       "    </tr>\n",
       "    <tr>\n",
       "      <th>3</th>\n",
       "      <td>3</td>\n",
       "      <td>2270</td>\n",
       "      <td>York Region Public Health Services</td>\n",
       "      <td>17250 Yonge Street</td>\n",
       "      <td>Newmarket</td>\n",
       "      <td>L3Y 6Z1</td>\n",
       "      <td>ON</td>\n",
       "      <td>www.york.ca/wps/portal/yorkhome/health/</td>\n",
       "      <td>44.048023</td>\n",
       "      <td>-79.480239</td>\n",
       "    </tr>\n",
       "    <tr>\n",
       "      <th>4</th>\n",
       "      <td>4</td>\n",
       "      <td>2237</td>\n",
       "      <td>Hamilton Public Health Services</td>\n",
       "      <td>110 King St. West, 2nd Floor</td>\n",
       "      <td>Hamilton</td>\n",
       "      <td>L8P 4S6</td>\n",
       "      <td>ON</td>\n",
       "      <td>www.hamilton.ca/publichealth</td>\n",
       "      <td>43.257631</td>\n",
       "      <td>-79.871341</td>\n",
       "    </tr>\n",
       "  </tbody>\n",
       "</table>\n",
       "</div>"
      ],
      "text/plain": [
       "   PHU_Location_surrogate_key  PHU_Location_ID  \\\n",
       "0                           0             2253   \n",
       "1                           1             2236   \n",
       "2                           2             2241   \n",
       "3                           3             2270   \n",
       "4                           4             2237   \n",
       "\n",
       "                                            PHU_Name  \\\n",
       "0                                 Peel Public Health   \n",
       "1                    Halton Region Health Department   \n",
       "2  Kingston, Frontenac and Lennox & Addington Pub...   \n",
       "3                 York Region Public Health Services   \n",
       "4                    Hamilton Public Health Services   \n",
       "\n",
       "                        Address         City Postal_Code Province  \\\n",
       "0        7120 Hurontario Street  Mississauga     L5W 1N4       ON   \n",
       "1              1151 Bronte Road     Oakville     L6M 3Ll       ON   \n",
       "2         221 Portsmouth Avenue     Kingston     K7M 1V5       ON   \n",
       "3            17250 Yonge Street    Newmarket     L3Y 6Z1       ON   \n",
       "4  110 King St. West, 2nd Floor     Hamilton     L8P 4S6       ON   \n",
       "\n",
       "                                           URL   Latitude  Longitude  \n",
       "0                    www.peelregion.ca/health/  43.647471 -79.708893  \n",
       "1  www.halton.ca/For-Residents/Public-Health/   43.413997 -79.744796  \n",
       "2                                www.kflaph.ca  44.227874 -76.525211  \n",
       "3     www.york.ca/wps/portal/yorkhome/health/   44.048023 -79.480239  \n",
       "4                 www.hamilton.ca/publichealth  43.257631 -79.871341  "
      ]
     },
     "execution_count": 10,
     "metadata": {},
     "output_type": "execute_result"
    }
   ],
   "source": [
    "PHU_Location_dimension.head()"
   ]
  }
 ],
 "metadata": {
  "kernelspec": {
   "display_name": "Python 3",
   "language": "python",
   "name": "python3"
  },
  "language_info": {
   "codemirror_mode": {
    "name": "ipython",
    "version": 3
   },
   "file_extension": ".py",
   "mimetype": "text/x-python",
   "name": "python",
   "nbconvert_exporter": "python",
   "pygments_lexer": "ipython3",
   "version": "3.8.5"
  }
 },
 "nbformat": 4,
 "nbformat_minor": 4
}
