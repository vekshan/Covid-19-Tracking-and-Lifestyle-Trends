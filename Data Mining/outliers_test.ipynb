{
 "cells": [
  {
   "cell_type": "code",
   "execution_count": 12,
   "id": "c68ee889",
   "metadata": {},
   "outputs": [],
   "source": [
    "import numpy as np\n",
    "import pandas as pd\n",
    "from sklearn.svm import OneClassSVM\n",
    "from sklearn.datasets import make_blobs\n",
    "from numpy import quantile, where, random\n",
    "import matplotlib.pyplot as plt\n",
    "import logging\n",
    "from codetiming import Timer"
   ]
  },
  {
   "cell_type": "code",
   "execution_count": 13,
   "id": "58aad438",
   "metadata": {},
   "outputs": [],
   "source": [
    "X_train = pd.read_csv('X_train.csv')\n",
    "X_test = pd.read_csv('X_test.csv')\n",
    "y_train = pd.read_csv('y_train_1d.csv')\n",
    "y_test = pd.read_csv('y_test_1d.csv')"
   ]
  },
  {
   "cell_type": "code",
   "execution_count": 14,
   "id": "8868897a",
   "metadata": {},
   "outputs": [
    {
     "name": "stdout",
     "output_type": "stream",
     "text": [
      "OneClassSVM(gamma=0.001, nu=0.03)\n"
     ]
    }
   ],
   "source": [
    "svm = OneClassSVM(kernel='rbf', gamma=0.001, nu=0.03)\n",
    "print(svm)"
   ]
  },
  {
   "cell_type": "code",
   "execution_count": 15,
   "id": "9e8213f1",
   "metadata": {},
   "outputs": [
    {
     "ename": "TypeError",
     "evalue": "'(array([  20,   52,   74,  127,  130,  142,  160,  218,  227,  282,  456,\n        519,  565,  568,  604,  639,  655,  670,  692,  725,  786,  820,\n        902,  935,  972,  973,  983, 1011, 1035, 1056, 1076, 1083, 1085,\n       1247, 1341, 1342, 1550, 1567, 1639, 1655, 1669, 1745, 1780, 1825,\n       1837, 1888, 1902, 1936, 1953, 1986, 2028, 2051, 2054, 2082, 2112,\n       2126, 2160, 2167, 2202, 2207, 2261, 2321, 2329, 2507, 2514, 2522,\n       2530, 2533, 2544, 2597, 2680, 2705, 2739, 2877, 2936, 2979, 3024,\n       3049, 3079, 3145, 3207, 3249, 3255, 3304, 3335, 3360, 3381, 3389,\n       3428, 3462, 3574, 3627, 3644, 3653, 3724, 3727, 3767, 3830, 3881,\n       3885, 3889, 3902, 3931, 3939, 3949, 3966, 4005, 4038, 4050, 4051,\n       4052, 4072, 4078, 4088, 4098, 4108, 4135, 4156, 4254, 4271, 4288,\n       4319, 4335, 4352, 4394, 4413, 4482, 4484, 4489, 4508, 4522, 4536,\n       4543, 4561, 4566, 4582, 4605, 4648, 4663, 4669, 4677, 4679, 4726,\n       4754, 4765, 4796, 4943, 4961, 4978, 4995, 5068, 5077, 5103, 5144,\n       5181, 5225, 5236, 5272, 5311, 5356, 5424, 5426, 5459, 5461, 5509,\n       5544, 5590, 5621, 5666, 5684, 5704, 5710, 5715, 5831, 5946, 6037,\n       6089, 6110, 6117, 6126, 6146, 6217, 6240, 6310, 6366, 6423, 6449,\n       6463, 6471, 6501, 6506, 6555, 6564, 6602, 6616, 6629, 6733, 6746,\n       6749, 6829, 6838, 6856, 6863, 6883, 6917, 6932, 6990, 6998, 7015,\n       7047, 7070, 7073, 7091, 7197, 7293, 7332, 7363, 7388, 7401, 7460,\n       7489, 7519, 7527, 7536, 7578, 7602, 7616], dtype=int64),)' is an invalid key",
     "output_type": "error",
     "traceback": [
      "\u001b[1;31m---------------------------------------------------------------------------\u001b[0m",
      "\u001b[1;31mTypeError\u001b[0m                                 Traceback (most recent call last)",
      "\u001b[1;32m<ipython-input-15-2ed1aa742375>\u001b[0m in \u001b[0;36m<module>\u001b[1;34m\u001b[0m\n\u001b[0;32m      2\u001b[0m \u001b[0mpred\u001b[0m \u001b[1;33m=\u001b[0m \u001b[0msvm\u001b[0m\u001b[1;33m.\u001b[0m\u001b[0mpredict\u001b[0m\u001b[1;33m(\u001b[0m\u001b[0mX_train\u001b[0m\u001b[1;33m)\u001b[0m\u001b[1;33m\u001b[0m\u001b[1;33m\u001b[0m\u001b[0m\n\u001b[0;32m      3\u001b[0m \u001b[0manom_index\u001b[0m \u001b[1;33m=\u001b[0m \u001b[0mwhere\u001b[0m\u001b[1;33m(\u001b[0m\u001b[0mpred\u001b[0m\u001b[1;33m==\u001b[0m\u001b[1;33m-\u001b[0m\u001b[1;36m1\u001b[0m\u001b[1;33m)\u001b[0m\u001b[1;33m\u001b[0m\u001b[1;33m\u001b[0m\u001b[0m\n\u001b[1;32m----> 4\u001b[1;33m \u001b[0mvalues\u001b[0m \u001b[1;33m=\u001b[0m \u001b[0mX_train\u001b[0m\u001b[1;33m[\u001b[0m\u001b[0manom_index\u001b[0m\u001b[1;33m]\u001b[0m\u001b[1;33m\u001b[0m\u001b[1;33m\u001b[0m\u001b[0m\n\u001b[0m",
      "\u001b[1;32mc:\\users\\dog19\\appdata\\local\\programs\\python\\python38\\lib\\site-packages\\pandas\\core\\frame.py\u001b[0m in \u001b[0;36m__getitem__\u001b[1;34m(self, key)\u001b[0m\n\u001b[0;32m   3022\u001b[0m             \u001b[1;32mif\u001b[0m \u001b[0mself\u001b[0m\u001b[1;33m.\u001b[0m\u001b[0mcolumns\u001b[0m\u001b[1;33m.\u001b[0m\u001b[0mnlevels\u001b[0m \u001b[1;33m>\u001b[0m \u001b[1;36m1\u001b[0m\u001b[1;33m:\u001b[0m\u001b[1;33m\u001b[0m\u001b[1;33m\u001b[0m\u001b[0m\n\u001b[0;32m   3023\u001b[0m                 \u001b[1;32mreturn\u001b[0m \u001b[0mself\u001b[0m\u001b[1;33m.\u001b[0m\u001b[0m_getitem_multilevel\u001b[0m\u001b[1;33m(\u001b[0m\u001b[0mkey\u001b[0m\u001b[1;33m)\u001b[0m\u001b[1;33m\u001b[0m\u001b[1;33m\u001b[0m\u001b[0m\n\u001b[1;32m-> 3024\u001b[1;33m             \u001b[0mindexer\u001b[0m \u001b[1;33m=\u001b[0m \u001b[0mself\u001b[0m\u001b[1;33m.\u001b[0m\u001b[0mcolumns\u001b[0m\u001b[1;33m.\u001b[0m\u001b[0mget_loc\u001b[0m\u001b[1;33m(\u001b[0m\u001b[0mkey\u001b[0m\u001b[1;33m)\u001b[0m\u001b[1;33m\u001b[0m\u001b[1;33m\u001b[0m\u001b[0m\n\u001b[0m\u001b[0;32m   3025\u001b[0m             \u001b[1;32mif\u001b[0m \u001b[0mis_integer\u001b[0m\u001b[1;33m(\u001b[0m\u001b[0mindexer\u001b[0m\u001b[1;33m)\u001b[0m\u001b[1;33m:\u001b[0m\u001b[1;33m\u001b[0m\u001b[1;33m\u001b[0m\u001b[0m\n\u001b[0;32m   3026\u001b[0m                 \u001b[0mindexer\u001b[0m \u001b[1;33m=\u001b[0m \u001b[1;33m[\u001b[0m\u001b[0mindexer\u001b[0m\u001b[1;33m]\u001b[0m\u001b[1;33m\u001b[0m\u001b[1;33m\u001b[0m\u001b[0m\n",
      "\u001b[1;32mc:\\users\\dog19\\appdata\\local\\programs\\python\\python38\\lib\\site-packages\\pandas\\core\\indexes\\base.py\u001b[0m in \u001b[0;36mget_loc\u001b[1;34m(self, key, method, tolerance)\u001b[0m\n\u001b[0;32m   3078\u001b[0m             \u001b[0mcasted_key\u001b[0m \u001b[1;33m=\u001b[0m \u001b[0mself\u001b[0m\u001b[1;33m.\u001b[0m\u001b[0m_maybe_cast_indexer\u001b[0m\u001b[1;33m(\u001b[0m\u001b[0mkey\u001b[0m\u001b[1;33m)\u001b[0m\u001b[1;33m\u001b[0m\u001b[1;33m\u001b[0m\u001b[0m\n\u001b[0;32m   3079\u001b[0m             \u001b[1;32mtry\u001b[0m\u001b[1;33m:\u001b[0m\u001b[1;33m\u001b[0m\u001b[1;33m\u001b[0m\u001b[0m\n\u001b[1;32m-> 3080\u001b[1;33m                 \u001b[1;32mreturn\u001b[0m \u001b[0mself\u001b[0m\u001b[1;33m.\u001b[0m\u001b[0m_engine\u001b[0m\u001b[1;33m.\u001b[0m\u001b[0mget_loc\u001b[0m\u001b[1;33m(\u001b[0m\u001b[0mcasted_key\u001b[0m\u001b[1;33m)\u001b[0m\u001b[1;33m\u001b[0m\u001b[1;33m\u001b[0m\u001b[0m\n\u001b[0m\u001b[0;32m   3081\u001b[0m             \u001b[1;32mexcept\u001b[0m \u001b[0mKeyError\u001b[0m \u001b[1;32mas\u001b[0m \u001b[0merr\u001b[0m\u001b[1;33m:\u001b[0m\u001b[1;33m\u001b[0m\u001b[1;33m\u001b[0m\u001b[0m\n\u001b[0;32m   3082\u001b[0m                 \u001b[1;32mraise\u001b[0m \u001b[0mKeyError\u001b[0m\u001b[1;33m(\u001b[0m\u001b[0mkey\u001b[0m\u001b[1;33m)\u001b[0m \u001b[1;32mfrom\u001b[0m \u001b[0merr\u001b[0m\u001b[1;33m\u001b[0m\u001b[1;33m\u001b[0m\u001b[0m\n",
      "\u001b[1;32mpandas\\_libs\\index.pyx\u001b[0m in \u001b[0;36mpandas._libs.index.IndexEngine.get_loc\u001b[1;34m()\u001b[0m\n",
      "\u001b[1;32mpandas\\_libs\\index.pyx\u001b[0m in \u001b[0;36mpandas._libs.index.IndexEngine.get_loc\u001b[1;34m()\u001b[0m\n",
      "\u001b[1;31mTypeError\u001b[0m: '(array([  20,   52,   74,  127,  130,  142,  160,  218,  227,  282,  456,\n        519,  565,  568,  604,  639,  655,  670,  692,  725,  786,  820,\n        902,  935,  972,  973,  983, 1011, 1035, 1056, 1076, 1083, 1085,\n       1247, 1341, 1342, 1550, 1567, 1639, 1655, 1669, 1745, 1780, 1825,\n       1837, 1888, 1902, 1936, 1953, 1986, 2028, 2051, 2054, 2082, 2112,\n       2126, 2160, 2167, 2202, 2207, 2261, 2321, 2329, 2507, 2514, 2522,\n       2530, 2533, 2544, 2597, 2680, 2705, 2739, 2877, 2936, 2979, 3024,\n       3049, 3079, 3145, 3207, 3249, 3255, 3304, 3335, 3360, 3381, 3389,\n       3428, 3462, 3574, 3627, 3644, 3653, 3724, 3727, 3767, 3830, 3881,\n       3885, 3889, 3902, 3931, 3939, 3949, 3966, 4005, 4038, 4050, 4051,\n       4052, 4072, 4078, 4088, 4098, 4108, 4135, 4156, 4254, 4271, 4288,\n       4319, 4335, 4352, 4394, 4413, 4482, 4484, 4489, 4508, 4522, 4536,\n       4543, 4561, 4566, 4582, 4605, 4648, 4663, 4669, 4677, 4679, 4726,\n       4754, 4765, 4796, 4943, 4961, 4978, 4995, 5068, 5077, 5103, 5144,\n       5181, 5225, 5236, 5272, 5311, 5356, 5424, 5426, 5459, 5461, 5509,\n       5544, 5590, 5621, 5666, 5684, 5704, 5710, 5715, 5831, 5946, 6037,\n       6089, 6110, 6117, 6126, 6146, 6217, 6240, 6310, 6366, 6423, 6449,\n       6463, 6471, 6501, 6506, 6555, 6564, 6602, 6616, 6629, 6733, 6746,\n       6749, 6829, 6838, 6856, 6863, 6883, 6917, 6932, 6990, 6998, 7015,\n       7047, 7070, 7073, 7091, 7197, 7293, 7332, 7363, 7388, 7401, 7460,\n       7489, 7519, 7527, 7536, 7578, 7602, 7616], dtype=int64),)' is an invalid key"
     ]
    }
   ],
   "source": [
    "svm.fit(X_train)\n",
    "pred = svm.predict(X_train)\n",
    "anom_index = where(pred==-1)\n",
    "values = X_train[anom_index]"
   ]
  },
  {
   "cell_type": "code",
   "execution_count": null,
   "id": "f71249df",
   "metadata": {},
   "outputs": [],
   "source": [
    "plt.scatter(X_train[:,0], X_train[:,1])\n",
    "plt.scatter(values[:,0], values[:,1], color='r')\n",
    "plt.show()"
   ]
  },
  {
   "cell_type": "code",
   "execution_count": null,
   "id": "b75b1a75",
   "metadata": {},
   "outputs": [],
   "source": [
    "pred = svm.fit_predict(X_train)\n",
    "scores = svm.score_samples(X_train)\n",
    "thresh = quantile(scores, 0.03)\n",
    "print(thresh)"
   ]
  },
  {
   "cell_type": "code",
   "execution_count": null,
   "id": "a281fc3e",
   "metadata": {},
   "outputs": [],
   "source": [
    "index = where(scores<=thresh)\n",
    "values = X_train[index]"
   ]
  },
  {
   "cell_type": "code",
   "execution_count": null,
   "id": "591222a6",
   "metadata": {},
   "outputs": [],
   "source": [
    "plt.scatter(X_train[:,0], X_train[:,1])\n",
    "plt.scatter(values[:,0], values[:,1], color='r')\n",
    "plt.show()"
   ]
  }
 ],
 "metadata": {
  "kernelspec": {
   "display_name": "Python 3",
   "language": "python",
   "name": "python3"
  },
  "language_info": {
   "codemirror_mode": {
    "name": "ipython",
    "version": 3
   },
   "file_extension": ".py",
   "mimetype": "text/x-python",
   "name": "python",
   "nbconvert_exporter": "python",
   "pygments_lexer": "ipython3",
   "version": "3.8.8"
  }
 },
 "nbformat": 4,
 "nbformat_minor": 5
}
