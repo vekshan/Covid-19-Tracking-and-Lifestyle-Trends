{
 "cells": [
  {
   "cell_type": "markdown",
   "metadata": {},
   "source": [
    "### Decision Tree"
   ]
  },
  {
   "cell_type": "code",
   "execution_count": 67,
   "metadata": {},
   "outputs": [],
   "source": [
    "import numpy as np\n",
    "import pandas as pd\n",
    "from sklearn.tree import DecisionTreeClassifier\n",
    "from sklearn.metrics import recall_score, precision_score, accuracy_score\n",
    "from sklearn import tree"
   ]
  },
  {
   "cell_type": "code",
   "execution_count": 68,
   "metadata": {},
   "outputs": [],
   "source": [
    "X_train = pd.read_csv('X_train.csv')\n",
    "X_test = pd.read_csv('X_test.csv')\n",
    "# y_train = pd.read_csv('y_train.csv')\n",
    "# y_test = pd.read_csv('y_test.csv')\n",
    "y_train = pd.read_csv('y_train_1d.csv')\n",
    "y_test = pd.read_csv('y_test_1d.csv')"
   ]
  },
  {
   "cell_type": "code",
   "execution_count": 69,
   "metadata": {},
   "outputs": [
    {
     "data": {
      "text/plain": [
       "DecisionTreeClassifier(criterion='entropy')"
      ]
     },
     "execution_count": 69,
     "metadata": {},
     "output_type": "execute_result"
    }
   ],
   "source": [
    "dt = DecisionTreeClassifier(criterion='entropy')\n",
    "dt.fit(X_train, y_train)"
   ]
  },
  {
   "cell_type": "code",
   "execution_count": 70,
   "metadata": {},
   "outputs": [
    {
     "name": "stdout",
     "output_type": "stream",
     "text": [
      "Recall of Decision Tree 94.93 %\n",
      "Precision of Decision Tree 94.93 %\n"
     ]
    }
   ],
   "source": [
    "y_pred = dt.predict(X_test)\n",
    "recall = recall_score(y_pred, y_test, average='micro') * 100\n",
    "precision = precision_score(y_pred, y_test, average='micro') * 100\n",
    "print(\"Recall of Decision Tree {:.2f} %\".format(recall))\n",
    "print(\"Precision of Decision Tree {:.2f} %\".format(precision))"
   ]
  },
  {
   "cell_type": "code",
   "execution_count": 71,
   "metadata": {},
   "outputs": [
    {
     "data": {
      "text/plain": [
       "0.9493122771268466"
      ]
     },
     "execution_count": 71,
     "metadata": {},
     "output_type": "execute_result"
    }
   ],
   "source": [
    "from sklearn.metrics import accuracy_score\n",
    "accuracy_score(y_pred,y_test)"
   ]
  },
  {
   "cell_type": "code",
   "execution_count": 72,
   "metadata": {},
   "outputs": [
    {
     "name": "stdout",
     "output_type": "stream",
     "text": [
      "|--- age_group_90+ <= 0.50\n",
      "|   |--- age_group_80s <= 0.50\n",
      "|   |   |--- age_group_70s <= 0.50\n",
      "|   |   |   |--- age_group_60s <= 0.50\n",
      "|   |   |   |   |--- retail_and_recreation_mobility <= -24.50\n",
      "|   |   |   |   |   |--- truncated branch of depth 13\n",
      "|   |   |   |   |--- retail_and_recreation_mobility >  -24.50\n",
      "|   |   |   |   |   |--- class: is_resolved\n",
      "|   |   |   |--- age_group_60s >  0.50\n",
      "|   |   |   |   |--- acquisition_group_OB <= 0.50\n",
      "|   |   |   |   |   |--- truncated branch of depth 11\n",
      "|   |   |   |   |--- acquisition_group_OB >  0.50\n",
      "|   |   |   |   |   |--- truncated branch of depth 12\n",
      "|   |   |--- age_group_70s >  0.50\n",
      "|   |   |   |--- acquisition_group_OB <= 0.50\n",
      "|   |   |   |   |--- gender_MALE <= 0.50\n",
      "|   |   |   |   |   |--- truncated branch of depth 7\n",
      "|   |   |   |   |--- gender_MALE >  0.50\n",
      "|   |   |   |   |   |--- truncated branch of depth 11\n",
      "|   |   |   |--- acquisition_group_OB >  0.50\n",
      "|   |   |   |   |--- grocery_and_pharmacy_mobility <= -1.50\n",
      "|   |   |   |   |   |--- truncated branch of depth 10\n",
      "|   |   |   |   |--- grocery_and_pharmacy_mobility >  -1.50\n",
      "|   |   |   |   |   |--- truncated branch of depth 5\n",
      "|   |--- age_group_80s >  0.50\n",
      "|   |   |--- acquisition_group_CC <= 0.50\n",
      "|   |   |   |--- retail_and_recreation_mobility <= -31.50\n",
      "|   |   |   |   |--- grocery_and_pharmacy_mobility <= -50.00\n",
      "|   |   |   |   |   |--- class: is_resolved\n",
      "|   |   |   |   |--- grocery_and_pharmacy_mobility >  -50.00\n",
      "|   |   |   |   |   |--- truncated branch of depth 13\n",
      "|   |   |   |--- retail_and_recreation_mobility >  -31.50\n",
      "|   |   |   |   |--- retail_and_recreation_mobility <= -14.50\n",
      "|   |   |   |   |   |--- truncated branch of depth 21\n",
      "|   |   |   |   |--- retail_and_recreation_mobility >  -14.50\n",
      "|   |   |   |   |   |--- class: is_resolved\n",
      "|   |   |--- acquisition_group_CC >  0.50\n",
      "|   |   |   |--- special_measure_Stage 3 <= 0.50\n",
      "|   |   |   |   |--- retail_and_recreation_mobility <= -27.50\n",
      "|   |   |   |   |   |--- truncated branch of depth 7\n",
      "|   |   |   |   |--- retail_and_recreation_mobility >  -27.50\n",
      "|   |   |   |   |   |--- class: is_resolved\n",
      "|   |   |   |--- special_measure_Stage 3 >  0.50\n",
      "|   |   |   |   |--- grocery_and_pharmacy_mobility <= -5.50\n",
      "|   |   |   |   |   |--- truncated branch of depth 6\n",
      "|   |   |   |   |--- grocery_and_pharmacy_mobility >  -5.50\n",
      "|   |   |   |   |   |--- truncated branch of depth 4\n",
      "|--- age_group_90+ >  0.50\n",
      "|   |--- acquisition_group_OB <= 0.50\n",
      "|   |   |--- retail_and_recreation_mobility <= -21.50\n",
      "|   |   |   |--- acquisition_group_TRAVEL <= 0.50\n",
      "|   |   |   |   |--- special_measure_Stage 2 Modified <= 0.50\n",
      "|   |   |   |   |   |--- class: is_resolved\n",
      "|   |   |   |   |--- special_measure_Stage 2 Modified >  0.50\n",
      "|   |   |   |   |   |--- truncated branch of depth 5\n",
      "|   |   |   |--- acquisition_group_TRAVEL >  0.50\n",
      "|   |   |   |   |--- class: is_fatal\n",
      "|   |   |--- retail_and_recreation_mobility >  -21.50\n",
      "|   |   |   |--- special_measure_Stage 2 Modified <= 0.50\n",
      "|   |   |   |   |--- acquisition_group_CC <= 0.50\n",
      "|   |   |   |   |   |--- truncated branch of depth 3\n",
      "|   |   |   |   |--- acquisition_group_CC >  0.50\n",
      "|   |   |   |   |   |--- truncated branch of depth 3\n",
      "|   |   |   |--- special_measure_Stage 2 Modified >  0.50\n",
      "|   |   |   |   |--- class: is_resolved\n",
      "|   |--- acquisition_group_OB >  0.50\n",
      "|   |   |--- retail_and_recreation_mobility <= -29.50\n",
      "|   |   |   |--- special_measure_Stage 3 <= 0.50\n",
      "|   |   |   |   |--- grocery_and_pharmacy_mobility <= -3.00\n",
      "|   |   |   |   |   |--- truncated branch of depth 10\n",
      "|   |   |   |   |--- grocery_and_pharmacy_mobility >  -3.00\n",
      "|   |   |   |   |   |--- truncated branch of depth 4\n",
      "|   |   |   |--- special_measure_Stage 3 >  0.50\n",
      "|   |   |   |   |--- class: is_fatal\n",
      "|   |   |--- retail_and_recreation_mobility >  -29.50\n",
      "|   |   |   |--- grocery_and_pharmacy_mobility <= -1.50\n",
      "|   |   |   |   |--- gender_FEMALE <= 0.50\n",
      "|   |   |   |   |   |--- class: is_resolved\n",
      "|   |   |   |   |--- gender_FEMALE >  0.50\n",
      "|   |   |   |   |   |--- truncated branch of depth 9\n",
      "|   |   |   |--- grocery_and_pharmacy_mobility >  -1.50\n",
      "|   |   |   |   |--- grocery_and_pharmacy_mobility <= 1.50\n",
      "|   |   |   |   |   |--- truncated branch of depth 6\n",
      "|   |   |   |   |--- grocery_and_pharmacy_mobility >  1.50\n",
      "|   |   |   |   |   |--- truncated branch of depth 8\n",
      "\n"
     ]
    }
   ],
   "source": [
    "from sklearn.tree import export_text\n",
    "print(export_text(decision_tree = dt,  feature_names = list(X_train.columns), max_depth=4))"
   ]
  },
  {
   "cell_type": "code",
   "execution_count": 73,
   "metadata": {},
   "outputs": [
    {
     "data": {
      "text/plain": [
       "array(['is_fatal', 'is_resolved', 'is_unresolved'], dtype=object)"
      ]
     },
     "execution_count": 73,
     "metadata": {},
     "output_type": "execute_result"
    }
   ],
   "source": [
    "dt.classes_"
   ]
  },
  {
   "cell_type": "markdown",
   "metadata": {},
   "source": [
    "#### Attempt to visualize"
   ]
  },
  {
   "cell_type": "code",
   "execution_count": 74,
   "metadata": {},
   "outputs": [],
   "source": [
    "import matplotlib.pyplot as plt    \n",
    "\n",
    "plt.style.use('ggplot')\n",
    "\n",
    "from sklearn import tree\n",
    "from six import StringIO   \n",
    "import pydotplus\n",
    "import imageio"
   ]
  },
  {
   "cell_type": "code",
   "execution_count": 75,
   "metadata": {},
   "outputs": [
    {
     "data": {
      "text/plain": [
       "True"
      ]
     },
     "execution_count": 75,
     "metadata": {},
     "output_type": "execute_result"
    }
   ],
   "source": [
    " # Create a dot file\n",
    "dotfile = open(\"tree.dot\", 'w')\n",
    "tree.export_graphviz(dt, out_file = dotfile, feature_names = X_train.columns)\n",
    "dotfile.close()        \n",
    "\n",
    "# Create pdf and png from the dot data\n",
    "dot_data = StringIO()\n",
    "tree.export_graphviz(dt, out_file=dot_data,  filled=True, rounded=True, \n",
    "                     special_characters=True, feature_names =  X_train.columns)\n",
    "graph = pydotplus.graph_from_dot_data(dot_data.getvalue())  \n",
    "\n",
    "graph.write_png(\"tree.png\")\n",
    "graph.write_pdf(\"tree.pdf\")    \n",
    "\n",
    "\n",
    "# img = imageio.imread(\"tree.png\")\n",
    "# plt.figure(figsize=(15,15)) \n",
    "# plt.imshow(img)\n",
    "# plt.show()"
   ]
  },
  {
   "cell_type": "code",
   "execution_count": null,
   "metadata": {},
   "outputs": [],
   "source": []
  }
 ],
 "metadata": {
  "kernelspec": {
   "display_name": "Python 3",
   "language": "python",
   "name": "python3"
  },
  "language_info": {
   "codemirror_mode": {
    "name": "ipython",
    "version": 3
   },
   "file_extension": ".py",
   "mimetype": "text/x-python",
   "name": "python",
   "nbconvert_exporter": "python",
   "pygments_lexer": "ipython3",
   "version": "3.8.5"
  }
 },
 "nbformat": 4,
 "nbformat_minor": 4
}
