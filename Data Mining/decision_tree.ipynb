{
 "cells": [
  {
   "cell_type": "markdown",
   "metadata": {},
   "source": [
    "### Decision Tree"
   ]
  },
  {
   "cell_type": "code",
   "execution_count": 18,
   "metadata": {},
   "outputs": [],
   "source": [
    "import numpy as np\n",
    "import pandas as pd\n",
    "from sklearn.tree import DecisionTreeClassifier\n",
    "from sklearn.metrics import recall_score, precision_score, accuracy_score\n",
    "from sklearn import tree"
   ]
  },
  {
   "cell_type": "code",
   "execution_count": 19,
   "metadata": {},
   "outputs": [],
   "source": [
    "X_train = pd.read_csv('X_train.csv')\n",
    "X_test = pd.read_csv('X_test.csv')\n",
    "# y_train = pd.read_csv('y_train.csv')\n",
    "# y_test = pd.read_csv('y_test.csv')\n",
    "y_train = pd.read_csv('y_train_1d.csv')\n",
    "y_test = pd.read_csv('y_test_1d.csv')"
   ]
  },
  {
   "cell_type": "code",
   "execution_count": 20,
   "metadata": {},
   "outputs": [
    {
     "data": {
      "text/plain": [
       "DecisionTreeClassifier(criterion='entropy')"
      ]
     },
     "execution_count": 20,
     "metadata": {},
     "output_type": "execute_result"
    }
   ],
   "source": [
    "dt = DecisionTreeClassifier(criterion='entropy')\n",
    "dt.fit(X_train, y_train)"
   ]
  },
  {
   "cell_type": "code",
   "execution_count": 21,
   "metadata": {},
   "outputs": [
    {
     "name": "stdout",
     "output_type": "stream",
     "text": [
      "Recall of Decision Tree 94.88 %\n",
      "Precision of Decision Tree 94.88 %\n"
     ]
    }
   ],
   "source": [
    "y_pred = dt.predict(X_test)\n",
    "recall = recall_score(y_pred, y_test, average='micro') * 100\n",
    "precision = precision_score(y_pred, y_test, average='micro') * 100\n",
    "print(\"Recall of Decision Tree {:.2f} %\".format(recall))\n",
    "print(\"Precision of Decision Tree {:.2f} %\".format(precision))"
   ]
  },
  {
   "cell_type": "code",
   "execution_count": 22,
   "metadata": {},
   "outputs": [
    {
     "data": {
      "text/plain": [
       "0.9488028527763627"
      ]
     },
     "execution_count": 22,
     "metadata": {},
     "output_type": "execute_result"
    }
   ],
   "source": [
    "from sklearn.metrics import accuracy_score\n",
    "accuracy_score(y_pred,y_test)"
   ]
  },
  {
   "cell_type": "code",
   "execution_count": 23,
   "metadata": {},
   "outputs": [
    {
     "name": "stdout",
     "output_type": "stream",
     "text": [
      "|--- age_group_90+ <= 0.50\n",
      "|   |--- age_group_80s <= 0.50\n",
      "|   |   |--- age_group_70s <= 0.50\n",
      "|   |   |   |--- age_group_60s <= 0.50\n",
      "|   |   |   |   |--- retail_and_recreation_mobility <= -24.50\n",
      "|   |   |   |   |   |--- truncated branch of depth 13\n",
      "|   |   |   |   |--- retail_and_recreation_mobility >  -24.50\n",
      "|   |   |   |   |   |--- weights: [0.00, 3225.00, 0.00] class: is_resolved\n",
      "|   |   |   |--- age_group_60s >  0.50\n",
      "|   |   |   |   |--- acquisition_group_OB <= 0.50\n",
      "|   |   |   |   |   |--- truncated branch of depth 11\n",
      "|   |   |   |   |--- acquisition_group_OB >  0.50\n",
      "|   |   |   |   |   |--- truncated branch of depth 12\n",
      "|   |   |--- age_group_70s >  0.50\n",
      "|   |   |   |--- acquisition_group_OB <= 0.50\n",
      "|   |   |   |   |--- gender_FEMALE <= 0.50\n",
      "|   |   |   |   |   |--- truncated branch of depth 11\n",
      "|   |   |   |   |--- gender_FEMALE >  0.50\n",
      "|   |   |   |   |   |--- truncated branch of depth 7\n",
      "|   |   |   |--- acquisition_group_OB >  0.50\n",
      "|   |   |   |   |--- grocery_and_pharmacy_mobility <= -1.50\n",
      "|   |   |   |   |   |--- truncated branch of depth 10\n",
      "|   |   |   |   |--- grocery_and_pharmacy_mobility >  -1.50\n",
      "|   |   |   |   |   |--- truncated branch of depth 5\n",
      "|   |--- age_group_80s >  0.50\n",
      "|   |   |--- acquisition_group_CC <= 0.50\n",
      "|   |   |   |--- retail_and_recreation_mobility <= -31.50\n",
      "|   |   |   |   |--- retail_and_recreation_mobility <= -56.50\n",
      "|   |   |   |   |   |--- weights: [0.00, 5.00, 0.00] class: is_resolved\n",
      "|   |   |   |   |--- retail_and_recreation_mobility >  -56.50\n",
      "|   |   |   |   |   |--- truncated branch of depth 13\n",
      "|   |   |   |--- retail_and_recreation_mobility >  -31.50\n",
      "|   |   |   |   |--- retail_and_recreation_mobility <= -14.50\n",
      "|   |   |   |   |   |--- truncated branch of depth 21\n",
      "|   |   |   |   |--- retail_and_recreation_mobility >  -14.50\n",
      "|   |   |   |   |   |--- weights: [0.00, 17.00, 0.00] class: is_resolved\n",
      "|   |   |--- acquisition_group_CC >  0.50\n",
      "|   |   |   |--- special_measure_Stage 3 <= 0.50\n",
      "|   |   |   |   |--- retail_and_recreation_mobility <= -27.50\n",
      "|   |   |   |   |   |--- truncated branch of depth 7\n",
      "|   |   |   |   |--- retail_and_recreation_mobility >  -27.50\n",
      "|   |   |   |   |   |--- weights: [0.00, 44.00, 0.00] class: is_resolved\n",
      "|   |   |   |--- special_measure_Stage 3 >  0.50\n",
      "|   |   |   |   |--- grocery_and_pharmacy_mobility <= -5.50\n",
      "|   |   |   |   |   |--- truncated branch of depth 6\n",
      "|   |   |   |   |--- grocery_and_pharmacy_mobility >  -5.50\n",
      "|   |   |   |   |   |--- truncated branch of depth 3\n",
      "|--- age_group_90+ >  0.50\n",
      "|   |--- acquisition_group_OB <= 0.50\n",
      "|   |   |--- retail_and_recreation_mobility <= -21.50\n",
      "|   |   |   |--- acquisition_group_TRAVEL <= 0.50\n",
      "|   |   |   |   |--- special_measure_Stage 2 Modified <= 0.50\n",
      "|   |   |   |   |   |--- weights: [0.00, 13.00, 0.00] class: is_resolved\n",
      "|   |   |   |   |--- special_measure_Stage 2 Modified >  0.50\n",
      "|   |   |   |   |   |--- truncated branch of depth 5\n",
      "|   |   |   |--- acquisition_group_TRAVEL >  0.50\n",
      "|   |   |   |   |--- weights: [1.00, 0.00, 0.00] class: is_fatal\n",
      "|   |   |--- retail_and_recreation_mobility >  -21.50\n",
      "|   |   |   |--- special_measure_Stage 2 Modified <= 0.50\n",
      "|   |   |   |   |--- grocery_and_pharmacy_mobility <= 1.00\n",
      "|   |   |   |   |   |--- truncated branch of depth 3\n",
      "|   |   |   |   |--- grocery_and_pharmacy_mobility >  1.00\n",
      "|   |   |   |   |   |--- truncated branch of depth 2\n",
      "|   |   |   |--- special_measure_Stage 2 Modified >  0.50\n",
      "|   |   |   |   |--- weights: [0.00, 2.00, 0.00] class: is_resolved\n",
      "|   |--- acquisition_group_OB >  0.50\n",
      "|   |   |--- retail_and_recreation_mobility <= -29.50\n",
      "|   |   |   |--- special_measure_Stage 3 <= 0.50\n",
      "|   |   |   |   |--- grocery_and_pharmacy_mobility <= -3.00\n",
      "|   |   |   |   |   |--- truncated branch of depth 10\n",
      "|   |   |   |   |--- grocery_and_pharmacy_mobility >  -3.00\n",
      "|   |   |   |   |   |--- truncated branch of depth 4\n",
      "|   |   |   |--- special_measure_Stage 3 >  0.50\n",
      "|   |   |   |   |--- weights: [2.00, 0.00, 0.00] class: is_fatal\n",
      "|   |   |--- retail_and_recreation_mobility >  -29.50\n",
      "|   |   |   |--- grocery_and_pharmacy_mobility <= -1.50\n",
      "|   |   |   |   |--- gender_FEMALE <= 0.50\n",
      "|   |   |   |   |   |--- weights: [0.00, 5.00, 0.00] class: is_resolved\n",
      "|   |   |   |   |--- gender_FEMALE >  0.50\n",
      "|   |   |   |   |   |--- truncated branch of depth 9\n",
      "|   |   |   |--- grocery_and_pharmacy_mobility >  -1.50\n",
      "|   |   |   |   |--- grocery_and_pharmacy_mobility <= 1.50\n",
      "|   |   |   |   |   |--- truncated branch of depth 6\n",
      "|   |   |   |   |--- grocery_and_pharmacy_mobility >  1.50\n",
      "|   |   |   |   |   |--- truncated branch of depth 8\n",
      "\n"
     ]
    }
   ],
   "source": [
    "from sklearn.tree import export_text\n",
    "print(export_text(decision_tree = dt,  feature_names = list(X_train.columns), max_depth=4, show_weights = True))"
   ]
  },
  {
   "cell_type": "code",
   "execution_count": 24,
   "metadata": {},
   "outputs": [
    {
     "data": {
      "text/plain": [
       "array(['is_fatal', 'is_resolved', 'is_unresolved'], dtype=object)"
      ]
     },
     "execution_count": 24,
     "metadata": {},
     "output_type": "execute_result"
    }
   ],
   "source": [
    "dt.classes_"
   ]
  },
  {
   "cell_type": "code",
   "execution_count": null,
   "metadata": {},
   "outputs": [],
   "source": []
  },
  {
   "cell_type": "code",
   "execution_count": null,
   "metadata": {},
   "outputs": [],
   "source": []
  }
 ],
 "metadata": {
  "kernelspec": {
   "display_name": "Python 3",
   "language": "python",
   "name": "python3"
  },
  "language_info": {
   "codemirror_mode": {
    "name": "ipython",
    "version": 3
   },
   "file_extension": ".py",
   "mimetype": "text/x-python",
   "name": "python",
   "nbconvert_exporter": "python",
   "pygments_lexer": "ipython3",
   "version": "3.8.5"
  }
 },
 "nbformat": 4,
 "nbformat_minor": 4
}
