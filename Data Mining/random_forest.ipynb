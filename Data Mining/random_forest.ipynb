{
 "cells": [
  {
   "cell_type": "markdown",
   "metadata": {},
   "source": [
    "### Random Forest Classifier"
   ]
  },
  {
   "cell_type": "code",
   "execution_count": 1,
   "metadata": {},
   "outputs": [],
   "source": [
    "import numpy as np\n",
    "import pandas as pd\n",
    "from sklearn.ensemble import RandomForestClassifier\n",
    "from sklearn.metrics import recall_score, precision_score, accuracy_score\n",
    "import logging\n",
    "from codetiming import Timer"
   ]
  },
  {
   "cell_type": "code",
   "execution_count": 2,
   "metadata": {},
   "outputs": [],
   "source": [
    "X_train = pd.read_csv('X_train.csv')\n",
    "X_test = pd.read_csv('X_test.csv')\n",
    "# y_train = pd.read_csv('y_train.csv')\n",
    "# y_test = pd.read_csv('y_test.csv')\n",
    "y_train = pd.read_csv('y_train_1d.csv')\n",
    "y_test = pd.read_csv('y_test_1d.csv')"
   ]
  },
  {
   "cell_type": "code",
   "execution_count": 3,
   "metadata": {},
   "outputs": [
    {
     "name": "stderr",
     "output_type": "stream",
     "text": [
      "WARNING:root:Time spent: 0.37\n"
     ]
    },
    {
     "data": {
      "text/plain": [
       "0.36870629999999993"
      ]
     },
     "execution_count": 3,
     "metadata": {},
     "output_type": "execute_result"
    }
   ],
   "source": [
    "t = Timer(\"example\", text=\"Time spent: {:.2f}\", logger=logging.warning)\n",
    "t.start()\n",
    "\n",
    "rf = RandomForestClassifier()\n",
    "# rf.fit(X_train, y_train)\n",
    "rf.fit(X_train, y_train.values.ravel())\n",
    "\n",
    "t.stop()"
   ]
  },
  {
   "cell_type": "code",
   "execution_count": 4,
   "metadata": {},
   "outputs": [
    {
     "name": "stdout",
     "output_type": "stream",
     "text": [
      "Recall of Decision Tree - Micro 96.31 %\n",
      "Precision of Decision Tree - Micro 96.31 %\n"
     ]
    }
   ],
   "source": [
    "y_pred = rf.predict(X_test)\n",
    "recall = recall_score(y_pred, y_test, average='micro') * 100\n",
    "precision = precision_score(y_pred, y_test, average='micro') * 100\n",
    "print(\"Recall of Decision Tree - Micro {:.2f} %\".format(recall))\n",
    "print(\"Precision of Decision Tree - Micro {:.2f} %\".format(precision))"
   ]
  },
  {
   "cell_type": "code",
   "execution_count": 5,
   "metadata": {},
   "outputs": [
    {
     "data": {
      "text/plain": [
       "0.9630667345899134"
      ]
     },
     "execution_count": 5,
     "metadata": {},
     "output_type": "execute_result"
    }
   ],
   "source": [
    "accuracy_score(y_pred,y_test)"
   ]
  },
  {
   "cell_type": "markdown",
   "metadata": {},
   "source": [
    "### Random Forest - Binary Problem - Prediciting Comunity Spread Cases"
   ]
  },
  {
   "cell_type": "code",
   "execution_count": 6,
   "metadata": {},
   "outputs": [],
   "source": [
    "y_train_cs = pd.read_csv('y_train_cs.csv')\n",
    "X_train_cs = pd.read_csv('X_train_cs.csv')\n",
    "\n",
    "y_test_cs = pd.read_csv('y_test_cs.csv')\n",
    "X_test_cs = pd.read_csv('X_test_cs.csv')"
   ]
  },
  {
   "cell_type": "code",
   "execution_count": 7,
   "metadata": {},
   "outputs": [
    {
     "data": {
      "text/html": [
       "<div>\n",
       "<style scoped>\n",
       "    .dataframe tbody tr th:only-of-type {\n",
       "        vertical-align: middle;\n",
       "    }\n",
       "\n",
       "    .dataframe tbody tr th {\n",
       "        vertical-align: top;\n",
       "    }\n",
       "\n",
       "    .dataframe thead th {\n",
       "        text-align: right;\n",
       "    }\n",
       "</style>\n",
       "<table border=\"1\" class=\"dataframe\">\n",
       "  <thead>\n",
       "    <tr style=\"text-align: right;\">\n",
       "      <th></th>\n",
       "      <th>acquisition_group_CS</th>\n",
       "    </tr>\n",
       "  </thead>\n",
       "  <tbody>\n",
       "    <tr>\n",
       "      <th>0</th>\n",
       "      <td>1</td>\n",
       "    </tr>\n",
       "    <tr>\n",
       "      <th>1</th>\n",
       "      <td>0</td>\n",
       "    </tr>\n",
       "    <tr>\n",
       "      <th>2</th>\n",
       "      <td>1</td>\n",
       "    </tr>\n",
       "    <tr>\n",
       "      <th>3</th>\n",
       "      <td>1</td>\n",
       "    </tr>\n",
       "    <tr>\n",
       "      <th>4</th>\n",
       "      <td>0</td>\n",
       "    </tr>\n",
       "    <tr>\n",
       "      <th>...</th>\n",
       "      <td>...</td>\n",
       "    </tr>\n",
       "    <tr>\n",
       "      <th>10367</th>\n",
       "      <td>1</td>\n",
       "    </tr>\n",
       "    <tr>\n",
       "      <th>10368</th>\n",
       "      <td>0</td>\n",
       "    </tr>\n",
       "    <tr>\n",
       "      <th>10369</th>\n",
       "      <td>0</td>\n",
       "    </tr>\n",
       "    <tr>\n",
       "      <th>10370</th>\n",
       "      <td>1</td>\n",
       "    </tr>\n",
       "    <tr>\n",
       "      <th>10371</th>\n",
       "      <td>1</td>\n",
       "    </tr>\n",
       "  </tbody>\n",
       "</table>\n",
       "<p>10372 rows × 1 columns</p>\n",
       "</div>"
      ],
      "text/plain": [
       "       acquisition_group_CS\n",
       "0                         1\n",
       "1                         0\n",
       "2                         1\n",
       "3                         1\n",
       "4                         0\n",
       "...                     ...\n",
       "10367                     1\n",
       "10368                     0\n",
       "10369                     0\n",
       "10370                     1\n",
       "10371                     1\n",
       "\n",
       "[10372 rows x 1 columns]"
      ]
     },
     "execution_count": 7,
     "metadata": {},
     "output_type": "execute_result"
    }
   ],
   "source": [
    "y_train_cs"
   ]
  },
  {
   "cell_type": "code",
   "execution_count": 8,
   "metadata": {},
   "outputs": [
    {
     "data": {
      "text/plain": [
       "0    7212\n",
       "1    3160\n",
       "Name: acquisition_group_CS, dtype: int64"
      ]
     },
     "execution_count": 8,
     "metadata": {},
     "output_type": "execute_result"
    }
   ],
   "source": [
    "y_train_cs.acquisition_group_CS.value_counts()"
   ]
  },
  {
   "cell_type": "code",
   "execution_count": 9,
   "metadata": {},
   "outputs": [
    {
     "data": {
      "text/html": [
       "<div>\n",
       "<style scoped>\n",
       "    .dataframe tbody tr th:only-of-type {\n",
       "        vertical-align: middle;\n",
       "    }\n",
       "\n",
       "    .dataframe tbody tr th {\n",
       "        vertical-align: top;\n",
       "    }\n",
       "\n",
       "    .dataframe thead th {\n",
       "        text-align: right;\n",
       "    }\n",
       "</style>\n",
       "<table border=\"1\" class=\"dataframe\">\n",
       "  <thead>\n",
       "    <tr style=\"text-align: right;\">\n",
       "      <th></th>\n",
       "      <th>is_unresolved</th>\n",
       "      <th>is_resolved</th>\n",
       "      <th>is_fatal</th>\n",
       "      <th>retail_and_recreation_mobility</th>\n",
       "      <th>grocery_and_pharmacy_mobility</th>\n",
       "      <th>month</th>\n",
       "      <th>parks_mobility</th>\n",
       "      <th>age_group_20s</th>\n",
       "      <th>age_group_30s</th>\n",
       "      <th>age_group_40s</th>\n",
       "      <th>...</th>\n",
       "      <th>age_group_90+</th>\n",
       "      <th>age_group_&lt;20</th>\n",
       "      <th>gender_FEMALE</th>\n",
       "      <th>gender_MALE</th>\n",
       "      <th>special_measure_Stage 2</th>\n",
       "      <th>special_measure_Stage 2 Modified</th>\n",
       "      <th>special_measure_Stage 3</th>\n",
       "      <th>special_measure_Stage 3 Modified</th>\n",
       "      <th>city_Ottawa</th>\n",
       "      <th>city_Toronto</th>\n",
       "    </tr>\n",
       "  </thead>\n",
       "  <tbody>\n",
       "    <tr>\n",
       "      <th>0</th>\n",
       "      <td>0</td>\n",
       "      <td>1</td>\n",
       "      <td>0</td>\n",
       "      <td>-2</td>\n",
       "      <td>15</td>\n",
       "      <td>9</td>\n",
       "      <td>92</td>\n",
       "      <td>0</td>\n",
       "      <td>0</td>\n",
       "      <td>1</td>\n",
       "      <td>...</td>\n",
       "      <td>0</td>\n",
       "      <td>0</td>\n",
       "      <td>1</td>\n",
       "      <td>0</td>\n",
       "      <td>0</td>\n",
       "      <td>0</td>\n",
       "      <td>1</td>\n",
       "      <td>0</td>\n",
       "      <td>0</td>\n",
       "      <td>1</td>\n",
       "    </tr>\n",
       "    <tr>\n",
       "      <th>1</th>\n",
       "      <td>0</td>\n",
       "      <td>1</td>\n",
       "      <td>0</td>\n",
       "      <td>-23</td>\n",
       "      <td>-10</td>\n",
       "      <td>9</td>\n",
       "      <td>85</td>\n",
       "      <td>0</td>\n",
       "      <td>0</td>\n",
       "      <td>0</td>\n",
       "      <td>...</td>\n",
       "      <td>0</td>\n",
       "      <td>1</td>\n",
       "      <td>1</td>\n",
       "      <td>0</td>\n",
       "      <td>0</td>\n",
       "      <td>0</td>\n",
       "      <td>1</td>\n",
       "      <td>0</td>\n",
       "      <td>0</td>\n",
       "      <td>1</td>\n",
       "    </tr>\n",
       "    <tr>\n",
       "      <th>2</th>\n",
       "      <td>0</td>\n",
       "      <td>1</td>\n",
       "      <td>0</td>\n",
       "      <td>-24</td>\n",
       "      <td>-6</td>\n",
       "      <td>10</td>\n",
       "      <td>28</td>\n",
       "      <td>0</td>\n",
       "      <td>0</td>\n",
       "      <td>0</td>\n",
       "      <td>...</td>\n",
       "      <td>0</td>\n",
       "      <td>0</td>\n",
       "      <td>0</td>\n",
       "      <td>1</td>\n",
       "      <td>0</td>\n",
       "      <td>1</td>\n",
       "      <td>0</td>\n",
       "      <td>0</td>\n",
       "      <td>0</td>\n",
       "      <td>1</td>\n",
       "    </tr>\n",
       "    <tr>\n",
       "      <th>3</th>\n",
       "      <td>0</td>\n",
       "      <td>1</td>\n",
       "      <td>0</td>\n",
       "      <td>-20</td>\n",
       "      <td>0</td>\n",
       "      <td>10</td>\n",
       "      <td>50</td>\n",
       "      <td>0</td>\n",
       "      <td>0</td>\n",
       "      <td>0</td>\n",
       "      <td>...</td>\n",
       "      <td>0</td>\n",
       "      <td>0</td>\n",
       "      <td>0</td>\n",
       "      <td>1</td>\n",
       "      <td>0</td>\n",
       "      <td>0</td>\n",
       "      <td>0</td>\n",
       "      <td>1</td>\n",
       "      <td>1</td>\n",
       "      <td>0</td>\n",
       "    </tr>\n",
       "    <tr>\n",
       "      <th>4</th>\n",
       "      <td>0</td>\n",
       "      <td>1</td>\n",
       "      <td>0</td>\n",
       "      <td>-23</td>\n",
       "      <td>-2</td>\n",
       "      <td>10</td>\n",
       "      <td>9</td>\n",
       "      <td>0</td>\n",
       "      <td>0</td>\n",
       "      <td>1</td>\n",
       "      <td>...</td>\n",
       "      <td>0</td>\n",
       "      <td>0</td>\n",
       "      <td>1</td>\n",
       "      <td>0</td>\n",
       "      <td>0</td>\n",
       "      <td>0</td>\n",
       "      <td>0</td>\n",
       "      <td>1</td>\n",
       "      <td>1</td>\n",
       "      <td>0</td>\n",
       "    </tr>\n",
       "    <tr>\n",
       "      <th>...</th>\n",
       "      <td>...</td>\n",
       "      <td>...</td>\n",
       "      <td>...</td>\n",
       "      <td>...</td>\n",
       "      <td>...</td>\n",
       "      <td>...</td>\n",
       "      <td>...</td>\n",
       "      <td>...</td>\n",
       "      <td>...</td>\n",
       "      <td>...</td>\n",
       "      <td>...</td>\n",
       "      <td>...</td>\n",
       "      <td>...</td>\n",
       "      <td>...</td>\n",
       "      <td>...</td>\n",
       "      <td>...</td>\n",
       "      <td>...</td>\n",
       "      <td>...</td>\n",
       "      <td>...</td>\n",
       "      <td>...</td>\n",
       "      <td>...</td>\n",
       "    </tr>\n",
       "    <tr>\n",
       "      <th>10367</th>\n",
       "      <td>0</td>\n",
       "      <td>1</td>\n",
       "      <td>0</td>\n",
       "      <td>-21</td>\n",
       "      <td>-2</td>\n",
       "      <td>10</td>\n",
       "      <td>39</td>\n",
       "      <td>0</td>\n",
       "      <td>0</td>\n",
       "      <td>0</td>\n",
       "      <td>...</td>\n",
       "      <td>0</td>\n",
       "      <td>0</td>\n",
       "      <td>1</td>\n",
       "      <td>0</td>\n",
       "      <td>0</td>\n",
       "      <td>0</td>\n",
       "      <td>0</td>\n",
       "      <td>1</td>\n",
       "      <td>0</td>\n",
       "      <td>1</td>\n",
       "    </tr>\n",
       "    <tr>\n",
       "      <th>10368</th>\n",
       "      <td>0</td>\n",
       "      <td>1</td>\n",
       "      <td>0</td>\n",
       "      <td>-33</td>\n",
       "      <td>-3</td>\n",
       "      <td>10</td>\n",
       "      <td>14</td>\n",
       "      <td>1</td>\n",
       "      <td>0</td>\n",
       "      <td>0</td>\n",
       "      <td>...</td>\n",
       "      <td>0</td>\n",
       "      <td>0</td>\n",
       "      <td>0</td>\n",
       "      <td>1</td>\n",
       "      <td>0</td>\n",
       "      <td>0</td>\n",
       "      <td>0</td>\n",
       "      <td>1</td>\n",
       "      <td>0</td>\n",
       "      <td>1</td>\n",
       "    </tr>\n",
       "    <tr>\n",
       "      <th>10369</th>\n",
       "      <td>0</td>\n",
       "      <td>1</td>\n",
       "      <td>0</td>\n",
       "      <td>-19</td>\n",
       "      <td>1</td>\n",
       "      <td>10</td>\n",
       "      <td>39</td>\n",
       "      <td>0</td>\n",
       "      <td>0</td>\n",
       "      <td>0</td>\n",
       "      <td>...</td>\n",
       "      <td>0</td>\n",
       "      <td>0</td>\n",
       "      <td>0</td>\n",
       "      <td>1</td>\n",
       "      <td>0</td>\n",
       "      <td>1</td>\n",
       "      <td>0</td>\n",
       "      <td>0</td>\n",
       "      <td>0</td>\n",
       "      <td>1</td>\n",
       "    </tr>\n",
       "    <tr>\n",
       "      <th>10370</th>\n",
       "      <td>0</td>\n",
       "      <td>1</td>\n",
       "      <td>0</td>\n",
       "      <td>-14</td>\n",
       "      <td>-2</td>\n",
       "      <td>10</td>\n",
       "      <td>-4</td>\n",
       "      <td>0</td>\n",
       "      <td>0</td>\n",
       "      <td>0</td>\n",
       "      <td>...</td>\n",
       "      <td>0</td>\n",
       "      <td>0</td>\n",
       "      <td>1</td>\n",
       "      <td>0</td>\n",
       "      <td>0</td>\n",
       "      <td>0</td>\n",
       "      <td>0</td>\n",
       "      <td>1</td>\n",
       "      <td>0</td>\n",
       "      <td>1</td>\n",
       "    </tr>\n",
       "    <tr>\n",
       "      <th>10371</th>\n",
       "      <td>0</td>\n",
       "      <td>1</td>\n",
       "      <td>0</td>\n",
       "      <td>-17</td>\n",
       "      <td>11</td>\n",
       "      <td>10</td>\n",
       "      <td>110</td>\n",
       "      <td>0</td>\n",
       "      <td>1</td>\n",
       "      <td>0</td>\n",
       "      <td>...</td>\n",
       "      <td>0</td>\n",
       "      <td>0</td>\n",
       "      <td>0</td>\n",
       "      <td>1</td>\n",
       "      <td>0</td>\n",
       "      <td>0</td>\n",
       "      <td>0</td>\n",
       "      <td>1</td>\n",
       "      <td>0</td>\n",
       "      <td>1</td>\n",
       "    </tr>\n",
       "  </tbody>\n",
       "</table>\n",
       "<p>10372 rows × 24 columns</p>\n",
       "</div>"
      ],
      "text/plain": [
       "       is_unresolved  is_resolved  is_fatal  retail_and_recreation_mobility  \\\n",
       "0                  0            1         0                              -2   \n",
       "1                  0            1         0                             -23   \n",
       "2                  0            1         0                             -24   \n",
       "3                  0            1         0                             -20   \n",
       "4                  0            1         0                             -23   \n",
       "...              ...          ...       ...                             ...   \n",
       "10367              0            1         0                             -21   \n",
       "10368              0            1         0                             -33   \n",
       "10369              0            1         0                             -19   \n",
       "10370              0            1         0                             -14   \n",
       "10371              0            1         0                             -17   \n",
       "\n",
       "       grocery_and_pharmacy_mobility  month  parks_mobility  age_group_20s  \\\n",
       "0                                 15      9              92              0   \n",
       "1                                -10      9              85              0   \n",
       "2                                 -6     10              28              0   \n",
       "3                                  0     10              50              0   \n",
       "4                                 -2     10               9              0   \n",
       "...                              ...    ...             ...            ...   \n",
       "10367                             -2     10              39              0   \n",
       "10368                             -3     10              14              1   \n",
       "10369                              1     10              39              0   \n",
       "10370                             -2     10              -4              0   \n",
       "10371                             11     10             110              0   \n",
       "\n",
       "       age_group_30s  age_group_40s  ...  age_group_90+  age_group_<20  \\\n",
       "0                  0              1  ...              0              0   \n",
       "1                  0              0  ...              0              1   \n",
       "2                  0              0  ...              0              0   \n",
       "3                  0              0  ...              0              0   \n",
       "4                  0              1  ...              0              0   \n",
       "...              ...            ...  ...            ...            ...   \n",
       "10367              0              0  ...              0              0   \n",
       "10368              0              0  ...              0              0   \n",
       "10369              0              0  ...              0              0   \n",
       "10370              0              0  ...              0              0   \n",
       "10371              1              0  ...              0              0   \n",
       "\n",
       "       gender_FEMALE  gender_MALE  special_measure_Stage 2  \\\n",
       "0                  1            0                        0   \n",
       "1                  1            0                        0   \n",
       "2                  0            1                        0   \n",
       "3                  0            1                        0   \n",
       "4                  1            0                        0   \n",
       "...              ...          ...                      ...   \n",
       "10367              1            0                        0   \n",
       "10368              0            1                        0   \n",
       "10369              0            1                        0   \n",
       "10370              1            0                        0   \n",
       "10371              0            1                        0   \n",
       "\n",
       "       special_measure_Stage 2 Modified  special_measure_Stage 3  \\\n",
       "0                                     0                        1   \n",
       "1                                     0                        1   \n",
       "2                                     1                        0   \n",
       "3                                     0                        0   \n",
       "4                                     0                        0   \n",
       "...                                 ...                      ...   \n",
       "10367                                 0                        0   \n",
       "10368                                 0                        0   \n",
       "10369                                 1                        0   \n",
       "10370                                 0                        0   \n",
       "10371                                 0                        0   \n",
       "\n",
       "       special_measure_Stage 3 Modified  city_Ottawa  city_Toronto  \n",
       "0                                     0            0             1  \n",
       "1                                     0            0             1  \n",
       "2                                     0            0             1  \n",
       "3                                     1            1             0  \n",
       "4                                     1            1             0  \n",
       "...                                 ...          ...           ...  \n",
       "10367                                 1            0             1  \n",
       "10368                                 1            0             1  \n",
       "10369                                 0            0             1  \n",
       "10370                                 1            0             1  \n",
       "10371                                 1            0             1  \n",
       "\n",
       "[10372 rows x 24 columns]"
      ]
     },
     "execution_count": 9,
     "metadata": {},
     "output_type": "execute_result"
    }
   ],
   "source": [
    "X_train_cs"
   ]
  },
  {
   "cell_type": "code",
   "execution_count": 10,
   "metadata": {},
   "outputs": [
    {
     "data": {
      "text/plain": [
       "Index(['is_unresolved', 'is_resolved', 'is_fatal',\n",
       "       'retail_and_recreation_mobility', 'grocery_and_pharmacy_mobility',\n",
       "       'month', 'parks_mobility', 'age_group_20s', 'age_group_30s',\n",
       "       'age_group_40s', 'age_group_50s', 'age_group_60s', 'age_group_70s',\n",
       "       'age_group_80s', 'age_group_90+', 'age_group_<20', 'gender_FEMALE',\n",
       "       'gender_MALE', 'special_measure_Stage 2',\n",
       "       'special_measure_Stage 2 Modified', 'special_measure_Stage 3',\n",
       "       'special_measure_Stage 3 Modified', 'city_Ottawa', 'city_Toronto'],\n",
       "      dtype='object')"
      ]
     },
     "execution_count": 10,
     "metadata": {},
     "output_type": "execute_result"
    }
   ],
   "source": [
    "X_train_cs.columns"
   ]
  },
  {
   "cell_type": "code",
   "execution_count": 11,
   "metadata": {},
   "outputs": [],
   "source": [
    "X_train_cs.drop(['special_measure_Stage 2', 'special_measure_Stage 2 Modified','special_measure_Stage 3',\n",
    "                 'special_measure_Stage 3 Modified', 'parks_mobility','retail_and_recreation_mobility', \n",
    "                 'grocery_and_pharmacy_mobility','city_Ottawa',\n",
    "       'city_Toronto'], axis = 1, inplace=True)\n",
    "X_test_cs.drop(['special_measure_Stage 2', 'special_measure_Stage 2 Modified','special_measure_Stage 3',\n",
    "                'special_measure_Stage 3 Modified', 'parks_mobility','retail_and_recreation_mobility', \n",
    "                'grocery_and_pharmacy_mobility','city_Ottawa',\n",
    "       'city_Toronto'], axis = 1, inplace=True)"
   ]
  },
  {
   "cell_type": "code",
   "execution_count": 12,
   "metadata": {},
   "outputs": [
    {
     "data": {
      "text/plain": [
       "Index(['is_unresolved', 'is_resolved', 'is_fatal', 'month', 'age_group_20s',\n",
       "       'age_group_30s', 'age_group_40s', 'age_group_50s', 'age_group_60s',\n",
       "       'age_group_70s', 'age_group_80s', 'age_group_90+', 'age_group_<20',\n",
       "       'gender_FEMALE', 'gender_MALE'],\n",
       "      dtype='object')"
      ]
     },
     "execution_count": 12,
     "metadata": {},
     "output_type": "execute_result"
    }
   ],
   "source": [
    "X_test_cs.columns"
   ]
  },
  {
   "cell_type": "code",
   "execution_count": 13,
   "metadata": {},
   "outputs": [
    {
     "name": "stderr",
     "output_type": "stream",
     "text": [
      "WARNING:root:Time spent: 0.36\n"
     ]
    },
    {
     "data": {
      "text/plain": [
       "0.3596029999999999"
      ]
     },
     "execution_count": 13,
     "metadata": {},
     "output_type": "execute_result"
    }
   ],
   "source": [
    "t.start()\n",
    "\n",
    "rf_cs = RandomForestClassifier()\n",
    "rf_cs.fit(X_train_cs, y_train_cs.values.ravel())\n",
    "\n",
    "t.stop()"
   ]
  },
  {
   "cell_type": "code",
   "execution_count": 14,
   "metadata": {},
   "outputs": [
    {
     "name": "stdout",
     "output_type": "stream",
     "text": [
      "Recall of Decision Tree 50.00 %\n",
      "Precision of Decision Tree 0.13 %\n"
     ]
    }
   ],
   "source": [
    "y_pred_cs = rf_cs.predict(X_test_cs)\n",
    "recall_cs = recall_score(y_pred_cs, y_test_cs) * 100\n",
    "precision_cs = precision_score(y_pred_cs, y_test_cs) * 100\n",
    "print(\"Recall of Decision Tree {:.2f} %\".format(recall_cs))\n",
    "print(\"Precision of Decision Tree {:.2f} %\".format(precision_cs))"
   ]
  },
  {
   "cell_type": "code",
   "execution_count": 15,
   "metadata": {},
   "outputs": [
    {
     "data": {
      "text/plain": [
       "0.7054741711642252"
      ]
     },
     "execution_count": 15,
     "metadata": {},
     "output_type": "execute_result"
    }
   ],
   "source": [
    "from sklearn.metrics import accuracy_score\n",
    "accuracy_score(y_pred_cs,y_test_cs)"
   ]
  },
  {
   "cell_type": "code",
   "execution_count": 16,
   "metadata": {},
   "outputs": [],
   "source": [
    "# from sklearn.tree import export_text\n",
    "# print(export_text(decision_tree = dt_ob,  feature_names = list(X_train_ob.columns), max_depth=4))"
   ]
  },
  {
   "cell_type": "code",
   "execution_count": 17,
   "metadata": {},
   "outputs": [
    {
     "data": {
      "text/plain": [
       "array([0, 1], dtype=int64)"
      ]
     },
     "execution_count": 17,
     "metadata": {},
     "output_type": "execute_result"
    }
   ],
   "source": [
    "rf_cs.classes_"
   ]
  },
  {
   "cell_type": "code",
   "execution_count": 18,
   "metadata": {},
   "outputs": [],
   "source": [
    "from imblearn.under_sampling import NearMiss \n",
    "nm = NearMiss()"
   ]
  },
  {
   "cell_type": "code",
   "execution_count": 19,
   "metadata": {},
   "outputs": [],
   "source": [
    "X_train_miss, y_train_miss = nm.fit_sample(X_train_cs, y_train_cs)\n",
    "X_test_miss, y_test_miss = nm.fit_sample(X_test_cs, y_test_cs)"
   ]
  },
  {
   "cell_type": "code",
   "execution_count": 20,
   "metadata": {},
   "outputs": [
    {
     "name": "stdout",
     "output_type": "stream",
     "text": [
      "Before NearMiss: \n",
      " 0    7212\n",
      "1    3160\n",
      "Name: acquisition_group_CS, dtype: int64\n",
      "\n",
      "After NearMiss: \n",
      " 1    3160\n",
      "0    3160\n",
      "Name: acquisition_group_CS, dtype: int64\n",
      "Before NearMiss: \n",
      " 0    1830\n",
      "1     764\n",
      "Name: acquisition_group_CS, dtype: int64\n",
      "\n",
      "After NearMiss: \n",
      " 1    764\n",
      "0    764\n",
      "Name: acquisition_group_CS, dtype: int64\n"
     ]
    }
   ],
   "source": [
    "print(\"Before NearMiss: \\n\", y_train_cs.acquisition_group_CS.value_counts())\n",
    "print(\"\\nAfter NearMiss: \\n\",y_train_miss.acquisition_group_CS.value_counts())\n",
    "print(\"Before NearMiss: \\n\", y_test_cs.acquisition_group_CS.value_counts())\n",
    "print(\"\\nAfter NearMiss: \\n\",y_test_miss.acquisition_group_CS.value_counts())"
   ]
  },
  {
   "cell_type": "code",
   "execution_count": 21,
   "metadata": {},
   "outputs": [
    {
     "name": "stderr",
     "output_type": "stream",
     "text": [
      "WARNING:root:Time spent: 0.26\n"
     ]
    },
    {
     "data": {
      "text/plain": [
       "0.25735360000000007"
      ]
     },
     "execution_count": 21,
     "metadata": {},
     "output_type": "execute_result"
    }
   ],
   "source": [
    "t.start()\n",
    "\n",
    "rf_miss = RandomForestClassifier()\n",
    "rf_miss.fit(X_train_miss, y_train_miss.values.ravel())\n",
    "\n",
    "t.stop()"
   ]
  },
  {
   "cell_type": "code",
   "execution_count": 22,
   "metadata": {},
   "outputs": [
    {
     "name": "stdout",
     "output_type": "stream",
     "text": [
      "Recall of Decision Tree 51.92 %\n",
      "Precision of Decision Tree 56.68 %\n"
     ]
    }
   ],
   "source": [
    "y_pred_miss = rf_miss.predict(X_test_miss)\n",
    "recall_miss = recall_score(y_pred_miss, y_test_miss) * 100\n",
    "precision_miss = precision_score(y_pred_miss, y_test_miss) * 100\n",
    "print(\"Recall of Decision Tree {:.2f} %\".format(recall_miss))\n",
    "print(\"Precision of Decision Tree {:.2f} %\".format(precision_miss))"
   ]
  },
  {
   "cell_type": "code",
   "execution_count": 23,
   "metadata": {},
   "outputs": [
    {
     "data": {
      "text/plain": [
       "0.5209424083769634"
      ]
     },
     "execution_count": 23,
     "metadata": {},
     "output_type": "execute_result"
    }
   ],
   "source": [
    "accuracy_score(y_pred_miss,y_test_miss)"
   ]
  },
  {
   "cell_type": "code",
   "execution_count": null,
   "metadata": {},
   "outputs": [],
   "source": []
  },
  {
   "cell_type": "code",
   "execution_count": null,
   "metadata": {},
   "outputs": [],
   "source": []
  }
 ],
 "metadata": {
  "kernelspec": {
   "display_name": "Python 3",
   "language": "python",
   "name": "python3"
  },
  "language_info": {
   "codemirror_mode": {
    "name": "ipython",
    "version": 3
   },
   "file_extension": ".py",
   "mimetype": "text/x-python",
   "name": "python",
   "nbconvert_exporter": "python",
   "pygments_lexer": "ipython3",
   "version": "3.8.5"
  }
 },
 "nbformat": 4,
 "nbformat_minor": 4
}
