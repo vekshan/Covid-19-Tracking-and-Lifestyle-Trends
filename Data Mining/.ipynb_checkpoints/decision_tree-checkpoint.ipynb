{
 "cells": [
  {
   "cell_type": "markdown",
   "metadata": {},
   "source": [
    "### Decision Tree - Prediciting Outcome Class (is_resolved, is_unresolved, is_fatal)"
   ]
  },
  {
   "cell_type": "code",
   "execution_count": 4,
   "metadata": {},
   "outputs": [],
   "source": [
    "import numpy as np\n",
    "import pandas as pd\n",
    "from sklearn.tree import DecisionTreeClassifier\n",
    "from sklearn.metrics import recall_score, precision_score, accuracy_score\n",
    "from sklearn import tree\n",
    "import logging\n",
    "from codetiming import Timer"
   ]
  },
  {
   "cell_type": "code",
   "execution_count": 5,
   "metadata": {},
   "outputs": [],
   "source": [
    "X_train = pd.read_csv('X_train.csv')\n",
    "X_test = pd.read_csv('X_test.csv')\n",
    "# y_train = pd.read_csv('y_train.csv')\n",
    "# y_test = pd.read_csv('y_test.csv')\n",
    "y_train = pd.read_csv('y_train_1d.csv')\n",
    "y_test = pd.read_csv('y_test_1d.csv')"
   ]
  },
  {
   "cell_type": "code",
   "execution_count": 6,
   "metadata": {},
   "outputs": [
    {
     "name": "stderr",
     "output_type": "stream",
     "text": [
      "WARNING:root:Time spent: 0.03\n"
     ]
    },
    {
     "data": {
      "text/plain": [
       "0.02505189999999402"
      ]
     },
     "execution_count": 6,
     "metadata": {},
     "output_type": "execute_result"
    }
   ],
   "source": [
    "t = Timer(\"example\", text=\"Time spent: {:.2f}\", logger=logging.warning)\n",
    "t.start()\n",
    "\n",
    "dt = DecisionTreeClassifier(criterion='gini')\n",
    "dt.fit(X_train, y_train)\n",
    "\n",
    "t.stop()"
   ]
  },
  {
   "cell_type": "code",
   "execution_count": 7,
   "metadata": {},
   "outputs": [
    {
     "name": "stdout",
     "output_type": "stream",
     "text": [
      "Recall of Decision Tree - Micro 94.70 %\n",
      "Precision of Decision Tree - Micro 94.70 %\n"
     ]
    }
   ],
   "source": [
    "y_pred = dt.predict(X_test)\n",
    "recall = recall_score(y_pred, y_test, average = 'micro') * 100\n",
    "precision = precision_score(y_pred, y_test,  average = 'micro') * 100\n",
    "print(\"Recall of Decision Tree - Micro {:.2f} %\".format(recall))\n",
    "print(\"Precision of Decision Tree - Micro {:.2f} %\".format(precision))"
   ]
  },
  {
   "cell_type": "code",
   "execution_count": 8,
   "metadata": {},
   "outputs": [
    {
     "data": {
      "text/plain": [
       "0.9470198675496688"
      ]
     },
     "execution_count": 8,
     "metadata": {},
     "output_type": "execute_result"
    }
   ],
   "source": [
    "from sklearn.metrics import accuracy_score\n",
    "accuracy_score(y_pred,y_test)"
   ]
  },
  {
   "cell_type": "code",
   "execution_count": 9,
   "metadata": {},
   "outputs": [
    {
     "name": "stdout",
     "output_type": "stream",
     "text": [
      "|--- age_group_90+ <= 0.50\n",
      "|   |--- age_group_80s <= 0.50\n",
      "|   |   |--- age_group_70s <= 0.50\n",
      "|   |   |   |--- truncated branch of depth 15\n",
      "|   |   |--- age_group_70s >  0.50\n",
      "|   |   |   |--- truncated branch of depth 13\n",
      "|   |--- age_group_80s >  0.50\n",
      "|   |   |--- acquisition_group_CC <= 0.50\n",
      "|   |   |   |--- truncated branch of depth 17\n",
      "|   |   |--- acquisition_group_CC >  0.50\n",
      "|   |   |   |--- truncated branch of depth 9\n",
      "|--- age_group_90+ >  0.50\n",
      "|   |--- acquisition_group_OB <= 0.50\n",
      "|   |   |--- retail_and_recreation_mobility <= -10.50\n",
      "|   |   |   |--- truncated branch of depth 8\n",
      "|   |   |--- retail_and_recreation_mobility >  -10.50\n",
      "|   |   |   |--- class: is_fatal\n",
      "|   |--- acquisition_group_OB >  0.50\n",
      "|   |   |--- retail_and_recreation_mobility <= -29.50\n",
      "|   |   |   |--- truncated branch of depth 11\n",
      "|   |   |--- retail_and_recreation_mobility >  -29.50\n",
      "|   |   |   |--- truncated branch of depth 10\n",
      "\n"
     ]
    }
   ],
   "source": [
    "from sklearn.tree import export_text\n",
    "print(export_text(decision_tree = dt,  feature_names = list(X_train.columns), max_depth=2))"
   ]
  },
  {
   "cell_type": "code",
   "execution_count": 10,
   "metadata": {},
   "outputs": [
    {
     "data": {
      "text/plain": [
       "is_resolved      7418\n",
       "is_fatal          200\n",
       "is_unresolved       2\n",
       "Name: Outcome, dtype: int64"
      ]
     },
     "execution_count": 10,
     "metadata": {},
     "output_type": "execute_result"
    }
   ],
   "source": [
    "y_train.Outcome.value_counts()"
   ]
  },
  {
   "cell_type": "markdown",
   "metadata": {},
   "source": [
    "#### Attempt to visualize"
   ]
  },
  {
   "cell_type": "code",
   "execution_count": 11,
   "metadata": {},
   "outputs": [],
   "source": [
    "import matplotlib.pyplot as plt    \n",
    "\n",
    "plt.style.use('ggplot')\n",
    "\n",
    "from sklearn import tree\n",
    "from six import StringIO   \n",
    "import pydotplus\n",
    "import imageio"
   ]
  },
  {
   "cell_type": "code",
   "execution_count": 12,
   "metadata": {},
   "outputs": [],
   "source": [
    " # Create a dot file\n",
    "# dotfile = open(\"tree.dot\", 'w')\n",
    "# tree.export_graphviz(dt, out_file = dotfile, feature_names = X_train.columns)\n",
    "# dotfile.close()        \n",
    "\n",
    "# # Create pdf and png from the dot data\n",
    "# dot_data = StringIO()\n",
    "# tree.export_graphviz(dt, out_file=dot_data,  filled=True, rounded=True, \n",
    "#                      special_characters=True, feature_names =  X_train.columns, class_names=dt.classes_)\n",
    "# graph = pydotplus.graph_from_dot_data(dot_data.getvalue())  \n",
    "\n",
    "# graph.write_png(\"tree.png\")\n",
    "# graph.write_pdf(\"tree.pdf\")    \n",
    "\n",
    "\n",
    "# img = imageio.imread(\"tree.png\")\n",
    "# plt.figure(figsize=(15,15)) \n",
    "# plt.imshow(img)\n",
    "# plt.show()"
   ]
  },
  {
   "cell_type": "markdown",
   "metadata": {},
   "source": [
    "### Predicting Outcome Class After Removal of Unresolved Columns - Binary Problem"
   ]
  },
  {
   "cell_type": "code",
   "execution_count": 13,
   "metadata": {},
   "outputs": [],
   "source": [
    "X_train_2 = pd.read_csv('X_train_1d_2.csv')\n",
    "X_test_2 = pd.read_csv('X_test_1d_2.csv')\n",
    "y_train_2 = pd.read_csv('y_train_1d_2.csv')\n",
    "y_test_2 = pd.read_csv('y_test_1d_2.csv')"
   ]
  },
  {
   "cell_type": "code",
   "execution_count": 14,
   "metadata": {},
   "outputs": [
    {
     "name": "stderr",
     "output_type": "stream",
     "text": [
      "WARNING:root:Time spent: 0.02\n"
     ]
    },
    {
     "data": {
      "text/plain": [
       "0.02037599999999884"
      ]
     },
     "execution_count": 14,
     "metadata": {},
     "output_type": "execute_result"
    }
   ],
   "source": [
    "t.start()\n",
    "\n",
    "dt_2 = DecisionTreeClassifier(criterion='gini', max_depth = 4)\n",
    "dt_2.fit(X_train_2, y_train_2)\n",
    "\n",
    "t.stop()"
   ]
  },
  {
   "cell_type": "code",
   "execution_count": 15,
   "metadata": {},
   "outputs": [
    {
     "name": "stdout",
     "output_type": "stream",
     "text": [
      "Recall of Decision Tree - Micro 99.27 %\n",
      "Precision of Decision Tree - Micro 98.37 %\n"
     ]
    }
   ],
   "source": [
    "y_pred_2 = dt.predict(X_test_2)\n",
    "recall_2 = recall_score(y_pred_2, y_test_2, pos_label = 'is_resolved') * 100\n",
    "precision_2 = precision_score(y_pred_2, y_test_2,  pos_label = 'is_resolved') * 100\n",
    "print(\"Recall of Decision Tree - Micro {:.2f} %\".format(recall_2))\n",
    "print(\"Precision of Decision Tree - Micro {:.2f} %\".format(precision_2))"
   ]
  },
  {
   "cell_type": "code",
   "execution_count": 16,
   "metadata": {},
   "outputs": [
    {
     "data": {
      "text/plain": [
       "0.977087114337568"
      ]
     },
     "execution_count": 16,
     "metadata": {},
     "output_type": "execute_result"
    }
   ],
   "source": [
    "from sklearn.metrics import accuracy_score\n",
    "accuracy_score(y_pred_2,y_test_2)"
   ]
  },
  {
   "cell_type": "code",
   "execution_count": 17,
   "metadata": {},
   "outputs": [
    {
     "name": "stdout",
     "output_type": "stream",
     "text": [
      "|--- age_group_90+ <= 0.50\n",
      "|   |--- age_group_80s <= 0.50\n",
      "|   |   |--- age_group_70s <= 0.50\n",
      "|   |   |   |--- age_group_60s <= 0.50\n",
      "|   |   |   |   |--- class: is_resolved\n",
      "|   |   |   |--- age_group_60s >  0.50\n",
      "|   |   |   |   |--- class: is_resolved\n",
      "|   |   |--- age_group_70s >  0.50\n",
      "|   |   |   |--- acquisition_group_OB <= 0.50\n",
      "|   |   |   |   |--- class: is_resolved\n",
      "|   |   |   |--- acquisition_group_OB >  0.50\n",
      "|   |   |   |   |--- class: is_resolved\n",
      "|   |--- age_group_80s >  0.50\n",
      "|   |   |--- acquisition_group_OB <= 0.50\n",
      "|   |   |   |--- retail_and_recreation_mobility <= -27.50\n",
      "|   |   |   |   |--- class: is_resolved\n",
      "|   |   |   |--- retail_and_recreation_mobility >  -27.50\n",
      "|   |   |   |   |--- class: is_resolved\n",
      "|   |   |--- acquisition_group_OB >  0.50\n",
      "|   |   |   |--- retail_and_recreation_mobility <= -15.00\n",
      "|   |   |   |   |--- class: is_resolved\n",
      "|   |   |   |--- retail_and_recreation_mobility >  -15.00\n",
      "|   |   |   |   |--- class: is_resolved\n",
      "|--- age_group_90+ >  0.50\n",
      "|   |--- acquisition_group_OB <= 0.50\n",
      "|   |   |--- retail_and_recreation_mobility <= -21.50\n",
      "|   |   |   |--- grocery_and_pharmacy_mobility <= -10.50\n",
      "|   |   |   |   |--- class: is_resolved\n",
      "|   |   |   |--- grocery_and_pharmacy_mobility >  -10.50\n",
      "|   |   |   |   |--- class: is_resolved\n",
      "|   |   |--- retail_and_recreation_mobility >  -21.50\n",
      "|   |   |   |--- special_measure_Stage 3 Modified <= 0.50\n",
      "|   |   |   |   |--- class: is_resolved\n",
      "|   |   |   |--- special_measure_Stage 3 Modified >  0.50\n",
      "|   |   |   |   |--- class: is_fatal\n",
      "|   |--- acquisition_group_OB >  0.50\n",
      "|   |   |--- retail_and_recreation_mobility <= -12.50\n",
      "|   |   |   |--- retail_and_recreation_mobility <= -16.50\n",
      "|   |   |   |   |--- class: is_resolved\n",
      "|   |   |   |--- retail_and_recreation_mobility >  -16.50\n",
      "|   |   |   |   |--- class: is_fatal\n",
      "|   |   |--- retail_and_recreation_mobility >  -12.50\n",
      "|   |   |   |--- class: is_resolved\n",
      "\n"
     ]
    }
   ],
   "source": [
    "from sklearn.tree import export_text\n",
    "print(export_text(decision_tree = dt_2,  feature_names = list(X_train_2.columns)))"
   ]
  },
  {
   "cell_type": "code",
   "execution_count": 18,
   "metadata": {},
   "outputs": [
    {
     "data": {
      "text/plain": [
       "is_resolved    8352\n",
       "is_fatal        203\n",
       "Name: Outcome, dtype: int64"
      ]
     },
     "execution_count": 18,
     "metadata": {},
     "output_type": "execute_result"
    }
   ],
   "source": [
    "y_train_2.Outcome.value_counts()"
   ]
  },
  {
   "cell_type": "markdown",
   "metadata": {},
   "source": [
    "#### Handling Class Imbalance Fatal vs. Resolved"
   ]
  },
  {
   "cell_type": "code",
   "execution_count": 19,
   "metadata": {},
   "outputs": [],
   "source": [
    "from imblearn.under_sampling import NearMiss \n",
    "nm = NearMiss()"
   ]
  },
  {
   "cell_type": "code",
   "execution_count": 20,
   "metadata": {},
   "outputs": [
    {
     "ename": "AttributeError",
     "evalue": "'NearMiss' object has no attribute 'fit_sample'",
     "output_type": "error",
     "traceback": [
      "\u001b[1;31m---------------------------------------------------------------------------\u001b[0m",
      "\u001b[1;31mAttributeError\u001b[0m                            Traceback (most recent call last)",
      "\u001b[1;32m<ipython-input-20-d974b36f051a>\u001b[0m in \u001b[0;36m<module>\u001b[1;34m\u001b[0m\n\u001b[1;32m----> 1\u001b[1;33m \u001b[0mX_train_2_miss\u001b[0m\u001b[1;33m,\u001b[0m \u001b[0my_train_2_miss\u001b[0m \u001b[1;33m=\u001b[0m \u001b[0mnm\u001b[0m\u001b[1;33m.\u001b[0m\u001b[0mfit_sample\u001b[0m\u001b[1;33m(\u001b[0m\u001b[0mX_train_2\u001b[0m\u001b[1;33m,\u001b[0m \u001b[0my_train_2\u001b[0m\u001b[1;33m)\u001b[0m\u001b[1;33m\u001b[0m\u001b[1;33m\u001b[0m\u001b[0m\n\u001b[0m\u001b[0;32m      2\u001b[0m \u001b[0mX_test_2_miss\u001b[0m\u001b[1;33m,\u001b[0m \u001b[0my_test_2_miss\u001b[0m \u001b[1;33m=\u001b[0m \u001b[0mnm\u001b[0m\u001b[1;33m.\u001b[0m\u001b[0mfit_sample\u001b[0m\u001b[1;33m(\u001b[0m\u001b[0mX_test_2\u001b[0m\u001b[1;33m,\u001b[0m \u001b[0my_test_2\u001b[0m\u001b[1;33m)\u001b[0m\u001b[1;33m\u001b[0m\u001b[1;33m\u001b[0m\u001b[0m\n",
      "\u001b[1;31mAttributeError\u001b[0m: 'NearMiss' object has no attribute 'fit_sample'"
     ]
    }
   ],
   "source": [
    "X_train_2_miss, y_train_2_miss = nm.fit_sample(X_train_2, y_train_2)\n",
    "X_test_2_miss, y_test_2_miss = nm.fit_sample(X_test_2, y_test_2)"
   ]
  },
  {
   "cell_type": "code",
   "execution_count": null,
   "metadata": {},
   "outputs": [],
   "source": [
    "print(\"Before NearMiss: \\n\", y_train_2.Outcome.value_counts())\n",
    "print(\"\\nAfter NearMiss: \\n\",y_train_2_miss.Outcome.value_counts())\n"
   ]
  },
  {
   "cell_type": "code",
   "execution_count": null,
   "metadata": {},
   "outputs": [],
   "source": [
    "t.start()\n",
    "\n",
    "dt_2_miss = DecisionTreeClassifier(criterion='entropy', max_depth=2, min_samples_leaf=1)\n",
    "dt_2_miss.fit(X_train_2_miss, y_train_2_miss)\n",
    "\n",
    "t.stop()"
   ]
  },
  {
   "cell_type": "code",
   "execution_count": null,
   "metadata": {},
   "outputs": [],
   "source": [
    "y_pred_2_miss = dt_2_miss.predict(X_test_2_miss)\n",
    "recall_2_miss = recall_score(y_pred_2_miss, y_test_2_miss, pos_label='is_resolved') * 100\n",
    "precision_2_miss = precision_score(y_pred_2_miss, y_test_2_miss, pos_label='is_resolved') * 100\n",
    "print(\"Recall of Decision Tree {:.2f} %\".format(recall_2_miss))\n",
    "print(\"Precision of Decision Tree {:.2f} %\".format(precision_2_miss))"
   ]
  },
  {
   "cell_type": "code",
   "execution_count": null,
   "metadata": {},
   "outputs": [],
   "source": [
    "accuracy_score(y_pred_2_miss,y_test_2_miss)"
   ]
  },
  {
   "cell_type": "code",
   "execution_count": null,
   "metadata": {},
   "outputs": [],
   "source": [
    "from sklearn.tree import export_text\n",
    "print(export_text(decision_tree = dt_2_miss,  feature_names = list(X_train_2_miss.columns), max_depth=4))"
   ]
  },
  {
   "cell_type": "markdown",
   "metadata": {},
   "source": [
    "##### Attempt of hyperparameter tuning on Model with UnderSampling"
   ]
  },
  {
   "cell_type": "code",
   "execution_count": null,
   "metadata": {},
   "outputs": [],
   "source": [
    "param_dist={\n",
    "    \"criterion\":[\"gini\", \"entropy\"],\n",
    "    \"max_depth\":[1,2,3,4,5,6,7,8,9, 10,None],\n",
    "    \"min_samples_leaf\":[1,2,3,4,5]\n",
    "}"
   ]
  },
  {
   "cell_type": "code",
   "execution_count": null,
   "metadata": {},
   "outputs": [],
   "source": [
    "from sklearn.model_selection import GridSearchCV"
   ]
  },
  {
   "cell_type": "code",
   "execution_count": null,
   "metadata": {},
   "outputs": [],
   "source": [
    "grid = GridSearchCV(dt_2_miss, param_grid=param_dist, cv=10, n_jobs=-1)"
   ]
  },
  {
   "cell_type": "code",
   "execution_count": null,
   "metadata": {},
   "outputs": [],
   "source": [
    "grid.fit(X_train_2_miss, y_train_2_miss)"
   ]
  },
  {
   "cell_type": "code",
   "execution_count": null,
   "metadata": {},
   "outputs": [],
   "source": [
    "grid.best_estimator_"
   ]
  },
  {
   "cell_type": "code",
   "execution_count": null,
   "metadata": {},
   "outputs": [],
   "source": [
    "grid.best_score_"
   ]
  },
  {
   "cell_type": "code",
   "execution_count": null,
   "metadata": {},
   "outputs": [],
   "source": [
    "grid.best_params_"
   ]
  },
  {
   "cell_type": "markdown",
   "metadata": {},
   "source": [
    "### Decision Tree - Binary Problem - Prediciting Comunity Spread Cases"
   ]
  },
  {
   "cell_type": "code",
   "execution_count": null,
   "metadata": {},
   "outputs": [],
   "source": [
    "y_train_cs = pd.read_csv('y_train_cs.csv')\n",
    "X_train_cs = pd.read_csv('X_train_cs.csv')\n",
    "\n",
    "y_test_cs = pd.read_csv('y_test_cs.csv')\n",
    "X_test_cs = pd.read_csv('X_test_cs.csv')"
   ]
  },
  {
   "cell_type": "code",
   "execution_count": null,
   "metadata": {},
   "outputs": [],
   "source": [
    "y_train_cs"
   ]
  },
  {
   "cell_type": "code",
   "execution_count": null,
   "metadata": {},
   "outputs": [],
   "source": [
    "y_train_cs.acquisition_group_CS.value_counts()"
   ]
  },
  {
   "cell_type": "code",
   "execution_count": null,
   "metadata": {},
   "outputs": [],
   "source": [
    "X_train_cs"
   ]
  },
  {
   "cell_type": "code",
   "execution_count": null,
   "metadata": {},
   "outputs": [],
   "source": [
    "X_train_cs.columns"
   ]
  },
  {
   "cell_type": "code",
   "execution_count": null,
   "metadata": {},
   "outputs": [],
   "source": [
    "X_train_cs.drop(['special_measure_Stage 2', 'special_measure_Stage 2 Modified','special_measure_Stage 3',\n",
    "                 'special_measure_Stage 3 Modified', 'parks_mobility','retail_and_recreation_mobility', \n",
    "                 'grocery_and_pharmacy_mobility','city_Ottawa',\n",
    "       'city_Toronto'], axis = 1, inplace=True)\n",
    "X_test_cs.drop(['special_measure_Stage 2', 'special_measure_Stage 2 Modified','special_measure_Stage 3',\n",
    "                'special_measure_Stage 3 Modified', 'parks_mobility','retail_and_recreation_mobility', \n",
    "                'grocery_and_pharmacy_mobility','city_Ottawa',\n",
    "       'city_Toronto'], axis = 1, inplace=True)"
   ]
  },
  {
   "cell_type": "code",
   "execution_count": null,
   "metadata": {},
   "outputs": [],
   "source": [
    "X_test_cs.columns"
   ]
  },
  {
   "cell_type": "code",
   "execution_count": null,
   "metadata": {},
   "outputs": [],
   "source": [
    "t.start()\n",
    "\n",
    "dt_cs = DecisionTreeClassifier(criterion='entropy')\n",
    "dt_cs.fit(X_train_cs, y_train_cs)\n",
    "\n",
    "t.stop()"
   ]
  },
  {
   "cell_type": "code",
   "execution_count": null,
   "metadata": {},
   "outputs": [],
   "source": [
    "y_pred_cs = dt_cs.predict(X_test_cs)\n",
    "recall_cs = recall_score(y_pred_cs, y_test_cs) * 100\n",
    "precision_cs = precision_score(y_pred_cs, y_test_cs) * 100\n",
    "print(\"Recall of Decision Tree {:.2f} %\".format(recall_cs))\n",
    "print(\"Precision of Decision Tree {:.2f} %\".format(precision_cs))"
   ]
  },
  {
   "cell_type": "code",
   "execution_count": null,
   "metadata": {},
   "outputs": [],
   "source": [
    "from sklearn.metrics import accuracy_score\n",
    "accuracy_score(y_pred_cs,y_test_cs)"
   ]
  },
  {
   "cell_type": "code",
   "execution_count": null,
   "metadata": {},
   "outputs": [],
   "source": [
    "from sklearn.tree import export_text\n",
    "print(export_text(decision_tree = dt_cs,  feature_names = list(X_train_cs.columns), max_depth=2))"
   ]
  },
  {
   "cell_type": "code",
   "execution_count": null,
   "metadata": {},
   "outputs": [],
   "source": [
    "dt_cs.classes_"
   ]
  },
  {
   "cell_type": "code",
   "execution_count": null,
   "metadata": {},
   "outputs": [],
   "source": [
    " # Create a dot file\n",
    "# dotfile_cs = open(\"tree_cs.dot\", 'w')\n",
    "# tree.export_graphviz(dt_cs, out_file = dotfile_cs, feature_names = X_train_cs.columns)\n",
    "# dotfile_cs.close()        \n",
    "\n",
    "# # Create pdf and png from the dot data\n",
    "# dot_data_cs = StringIO()\n",
    "# tree.export_graphviz(dt_cs, out_file=dot_data_cs,  filled=True, rounded=True, \n",
    "#                      special_characters=True, feature_names =  X_train_cs.columns, class_names=True)\n",
    "# # graph = pydotplus.graph_from_dot_data(dot_data_cs.getvalue())  \n",
    "\n",
    "# # graph.write_png(\"tree_cs.png\")\n",
    "# # graph.write_pdf(\"tree_cs.pdf\")    \n",
    "\n",
    "\n",
    "# img = imageio.imread(\"tree.png\")\n",
    "# plt.figure(figsize=(15,15)) \n",
    "# plt.imshow(img)\n",
    "# plt.show()"
   ]
  },
  {
   "cell_type": "markdown",
   "metadata": {},
   "source": [
    "#### Handling Class Imbalance - Community Spread vs. Not Community Spread"
   ]
  },
  {
   "cell_type": "code",
   "execution_count": null,
   "metadata": {},
   "outputs": [],
   "source": [
    "from imblearn.under_sampling import NearMiss \n",
    "nm = NearMiss()"
   ]
  },
  {
   "cell_type": "code",
   "execution_count": null,
   "metadata": {},
   "outputs": [],
   "source": [
    "X_train_miss, y_train_miss = nm.fit_sample(X_train_cs, y_train_cs)\n",
    "X_test_miss, y_test_miss = nm.fit_sample(X_test_cs, y_test_cs)"
   ]
  },
  {
   "cell_type": "code",
   "execution_count": null,
   "metadata": {},
   "outputs": [],
   "source": [
    "print(\"Before NearMiss: \\n\", y_train_cs.acquisition_group_CS.value_counts())\n",
    "print(\"\\nAfter NearMiss: \\n\",y_train_miss.acquisition_group_CS.value_counts())\n",
    "print(\"Before NearMiss: \\n\", y_test_cs.acquisition_group_CS.value_counts())\n",
    "print(\"\\nAfter NearMiss: \\n\",y_test_miss.acquisition_group_CS.value_counts())"
   ]
  },
  {
   "cell_type": "code",
   "execution_count": null,
   "metadata": {},
   "outputs": [],
   "source": [
    "t.start()\n",
    "\n",
    "dt_miss = DecisionTreeClassifier()\n",
    "dt_miss.fit(X_train_miss, y_train_miss)\n",
    "\n",
    "t.stop()"
   ]
  },
  {
   "cell_type": "code",
   "execution_count": null,
   "metadata": {},
   "outputs": [],
   "source": [
    "y_pred_miss = dt_miss.predict(X_test_miss)\n",
    "recall_miss = recall_score(y_pred_miss, y_test_miss) * 100\n",
    "precision_miss = precision_score(y_pred_miss, y_test_miss) * 100\n",
    "print(\"Recall of Decision Tree {:.2f} %\".format(recall_miss))\n",
    "print(\"Precision of Decision Tree {:.2f} %\".format(precision_miss))"
   ]
  },
  {
   "cell_type": "code",
   "execution_count": null,
   "metadata": {},
   "outputs": [],
   "source": [
    "accuracy_score(y_pred_miss,y_test_miss)"
   ]
  },
  {
   "cell_type": "code",
   "execution_count": null,
   "metadata": {},
   "outputs": [],
   "source": [
    "from sklearn.tree import export_text\n",
    "print(export_text(decision_tree = dt_miss,  feature_names = list(X_train_cs.columns), max_depth=2))"
   ]
  },
  {
   "cell_type": "code",
   "execution_count": null,
   "metadata": {},
   "outputs": [],
   "source": []
  }
 ],
 "metadata": {
  "kernelspec": {
   "display_name": "Python 3",
   "language": "python",
   "name": "python3"
  },
  "language_info": {
   "codemirror_mode": {
    "name": "ipython",
    "version": 3
   },
   "file_extension": ".py",
   "mimetype": "text/x-python",
   "name": "python",
   "nbconvert_exporter": "python",
   "pygments_lexer": "ipython3",
   "version": "3.8.8"
  }
 },
 "nbformat": 4,
 "nbformat_minor": 4
}
