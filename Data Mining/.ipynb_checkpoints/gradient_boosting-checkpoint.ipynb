{
 "cells": [
  {
   "cell_type": "markdown",
   "metadata": {},
   "source": [
    "### Gradient Boosting - Prediciting Outcome Class (is_resolved, is_unresolved, is_fatal)"
   ]
  },
  {
   "cell_type": "code",
   "execution_count": 71,
   "metadata": {},
   "outputs": [],
   "source": [
    "import numpy as np\n",
    "import pandas as pd\n",
    "from sklearn.ensemble import GradientBoostingClassifier\n",
    "from sklearn.metrics import recall_score, precision_score, accuracy_score\n",
    "import logging\n",
    "from codetiming import Timer"
   ]
  },
  {
   "cell_type": "code",
   "execution_count": 72,
   "metadata": {},
   "outputs": [],
   "source": [
    "# y_train_gb = pd.DataFrame((y_train.iloc[:, 0:] == 1).idxmax(1), columns = ['Outcome'])\n",
    "# y_test_gb = pd.DataFrame((y_test.iloc[:, 0:] == 1).idxmax(1), columns = ['Outcome'])\n",
    "# y_train_gb.to_csv('y_train_gb.csv', index=False)\n",
    "# y_test_gb.to_csv('y_test_gb.csv', index=False)"
   ]
  },
  {
   "cell_type": "code",
   "execution_count": 73,
   "metadata": {},
   "outputs": [],
   "source": [
    "X_train = pd.read_csv('X_train.csv')\n",
    "X_test = pd.read_csv('X_test.csv')\n",
    "y_train = pd.read_csv('y_train_1d.csv')\n",
    "y_test = pd.read_csv('y_test_1d.csv')"
   ]
  },
  {
   "cell_type": "code",
   "execution_count": 74,
   "metadata": {},
   "outputs": [
    {
     "name": "stderr",
     "output_type": "stream",
     "text": [
      "WARNING:root:Time spent: 1.98\n"
     ]
    },
    {
     "data": {
      "text/plain": [
       "1.9804536999999982"
      ]
     },
     "execution_count": 74,
     "metadata": {},
     "output_type": "execute_result"
    }
   ],
   "source": [
    "t = Timer(\"example\", text=\"Time spent: {:.2f}\", logger=logging.warning)\n",
    "t.start()\n",
    "\n",
    "gb = GradientBoostingClassifier()\n",
    "gb.fit(X_train, y_train.values.ravel())\n",
    "\n",
    "t.stop()"
   ]
  },
  {
   "cell_type": "code",
   "execution_count": 75,
   "metadata": {},
   "outputs": [
    {
     "name": "stdout",
     "output_type": "stream",
     "text": [
      "is_resolved      7418\n",
      "is_fatal          200\n",
      "is_unresolved       2\n",
      "Name: Outcome, dtype: int64\n",
      "is_resolved      3822\n",
      "is_fatal          103\n",
      "is_unresolved       1\n",
      "Name: Outcome, dtype: int64\n"
     ]
    }
   ],
   "source": [
    "print(y_train.Outcome.value_counts())\n",
    "print(y_test.Outcome.value_counts())"
   ]
  },
  {
   "cell_type": "code",
   "execution_count": 76,
   "metadata": {},
   "outputs": [
    {
     "name": "stdout",
     "output_type": "stream",
     "text": [
      "Recall of Decision Tree - Micro 97.15 %\n",
      "Precision of Decision Tree - Micro 99.34 %\n"
     ]
    }
   ],
   "source": [
    "y_pred = gb.predict(X_test)\n",
    "recall = recall_score(y_pred, y_test, average = 'weighted') * 100\n",
    "precision = precision_score(y_pred, y_test, average = 'weighted') * 100\n",
    "print(\"Recall of Decision Tree - Micro {:.2f} %\".format(recall))\n",
    "print(\"Precision of Decision Tree - Micro {:.2f} %\".format(precision))"
   ]
  },
  {
   "cell_type": "code",
   "execution_count": 77,
   "metadata": {},
   "outputs": [
    {
     "data": {
      "text/plain": [
       "0.9714722363728986"
      ]
     },
     "execution_count": 77,
     "metadata": {},
     "output_type": "execute_result"
    }
   ],
   "source": [
    "accuracy_score(y_pred,y_test)"
   ]
  },
  {
   "cell_type": "markdown",
   "metadata": {},
   "source": [
    "### Gradient Boosting - Binary Problem - Prediciting Comunity Spread Cases"
   ]
  },
  {
   "cell_type": "code",
   "execution_count": 78,
   "metadata": {},
   "outputs": [],
   "source": [
    "y_train_cs = pd.read_csv('y_train_cs.csv')\n",
    "X_train_cs = pd.read_csv('X_train_cs.csv')\n",
    "\n",
    "y_test_cs = pd.read_csv('y_test_cs.csv')\n",
    "X_test_cs = pd.read_csv('X_test_cs.csv')"
   ]
  },
  {
   "cell_type": "code",
   "execution_count": 79,
   "metadata": {},
   "outputs": [
    {
     "data": {
      "text/html": [
       "<div>\n",
       "<style scoped>\n",
       "    .dataframe tbody tr th:only-of-type {\n",
       "        vertical-align: middle;\n",
       "    }\n",
       "\n",
       "    .dataframe tbody tr th {\n",
       "        vertical-align: top;\n",
       "    }\n",
       "\n",
       "    .dataframe thead th {\n",
       "        text-align: right;\n",
       "    }\n",
       "</style>\n",
       "<table border=\"1\" class=\"dataframe\">\n",
       "  <thead>\n",
       "    <tr style=\"text-align: right;\">\n",
       "      <th></th>\n",
       "      <th>acquisition_group_CS</th>\n",
       "    </tr>\n",
       "  </thead>\n",
       "  <tbody>\n",
       "    <tr>\n",
       "      <th>0</th>\n",
       "      <td>1</td>\n",
       "    </tr>\n",
       "    <tr>\n",
       "      <th>1</th>\n",
       "      <td>0</td>\n",
       "    </tr>\n",
       "    <tr>\n",
       "      <th>2</th>\n",
       "      <td>1</td>\n",
       "    </tr>\n",
       "    <tr>\n",
       "      <th>3</th>\n",
       "      <td>1</td>\n",
       "    </tr>\n",
       "    <tr>\n",
       "      <th>4</th>\n",
       "      <td>0</td>\n",
       "    </tr>\n",
       "    <tr>\n",
       "      <th>...</th>\n",
       "      <td>...</td>\n",
       "    </tr>\n",
       "    <tr>\n",
       "      <th>10367</th>\n",
       "      <td>1</td>\n",
       "    </tr>\n",
       "    <tr>\n",
       "      <th>10368</th>\n",
       "      <td>0</td>\n",
       "    </tr>\n",
       "    <tr>\n",
       "      <th>10369</th>\n",
       "      <td>0</td>\n",
       "    </tr>\n",
       "    <tr>\n",
       "      <th>10370</th>\n",
       "      <td>1</td>\n",
       "    </tr>\n",
       "    <tr>\n",
       "      <th>10371</th>\n",
       "      <td>1</td>\n",
       "    </tr>\n",
       "  </tbody>\n",
       "</table>\n",
       "<p>10372 rows × 1 columns</p>\n",
       "</div>"
      ],
      "text/plain": [
       "       acquisition_group_CS\n",
       "0                         1\n",
       "1                         0\n",
       "2                         1\n",
       "3                         1\n",
       "4                         0\n",
       "...                     ...\n",
       "10367                     1\n",
       "10368                     0\n",
       "10369                     0\n",
       "10370                     1\n",
       "10371                     1\n",
       "\n",
       "[10372 rows x 1 columns]"
      ]
     },
     "execution_count": 79,
     "metadata": {},
     "output_type": "execute_result"
    }
   ],
   "source": [
    "y_train_cs"
   ]
  },
  {
   "cell_type": "code",
   "execution_count": 80,
   "metadata": {},
   "outputs": [
    {
     "data": {
      "text/plain": [
       "0    7212\n",
       "1    3160\n",
       "Name: acquisition_group_CS, dtype: int64"
      ]
     },
     "execution_count": 80,
     "metadata": {},
     "output_type": "execute_result"
    }
   ],
   "source": [
    "y_train_cs.acquisition_group_CS.value_counts()"
   ]
  },
  {
   "cell_type": "code",
   "execution_count": 81,
   "metadata": {},
   "outputs": [
    {
     "data": {
      "text/html": [
       "<div>\n",
       "<style scoped>\n",
       "    .dataframe tbody tr th:only-of-type {\n",
       "        vertical-align: middle;\n",
       "    }\n",
       "\n",
       "    .dataframe tbody tr th {\n",
       "        vertical-align: top;\n",
       "    }\n",
       "\n",
       "    .dataframe thead th {\n",
       "        text-align: right;\n",
       "    }\n",
       "</style>\n",
       "<table border=\"1\" class=\"dataframe\">\n",
       "  <thead>\n",
       "    <tr style=\"text-align: right;\">\n",
       "      <th></th>\n",
       "      <th>is_unresolved</th>\n",
       "      <th>is_resolved</th>\n",
       "      <th>is_fatal</th>\n",
       "      <th>retail_and_recreation_mobility</th>\n",
       "      <th>grocery_and_pharmacy_mobility</th>\n",
       "      <th>month</th>\n",
       "      <th>parks_mobility</th>\n",
       "      <th>age_group_20s</th>\n",
       "      <th>age_group_30s</th>\n",
       "      <th>age_group_40s</th>\n",
       "      <th>...</th>\n",
       "      <th>age_group_90+</th>\n",
       "      <th>age_group_&lt;20</th>\n",
       "      <th>gender_FEMALE</th>\n",
       "      <th>gender_MALE</th>\n",
       "      <th>special_measure_Stage 2</th>\n",
       "      <th>special_measure_Stage 2 Modified</th>\n",
       "      <th>special_measure_Stage 3</th>\n",
       "      <th>special_measure_Stage 3 Modified</th>\n",
       "      <th>city_Ottawa</th>\n",
       "      <th>city_Toronto</th>\n",
       "    </tr>\n",
       "  </thead>\n",
       "  <tbody>\n",
       "    <tr>\n",
       "      <th>0</th>\n",
       "      <td>0</td>\n",
       "      <td>1</td>\n",
       "      <td>0</td>\n",
       "      <td>-2</td>\n",
       "      <td>15</td>\n",
       "      <td>9</td>\n",
       "      <td>92</td>\n",
       "      <td>0</td>\n",
       "      <td>0</td>\n",
       "      <td>1</td>\n",
       "      <td>...</td>\n",
       "      <td>0</td>\n",
       "      <td>0</td>\n",
       "      <td>1</td>\n",
       "      <td>0</td>\n",
       "      <td>0</td>\n",
       "      <td>0</td>\n",
       "      <td>1</td>\n",
       "      <td>0</td>\n",
       "      <td>0</td>\n",
       "      <td>1</td>\n",
       "    </tr>\n",
       "    <tr>\n",
       "      <th>1</th>\n",
       "      <td>0</td>\n",
       "      <td>1</td>\n",
       "      <td>0</td>\n",
       "      <td>-23</td>\n",
       "      <td>-10</td>\n",
       "      <td>9</td>\n",
       "      <td>85</td>\n",
       "      <td>0</td>\n",
       "      <td>0</td>\n",
       "      <td>0</td>\n",
       "      <td>...</td>\n",
       "      <td>0</td>\n",
       "      <td>1</td>\n",
       "      <td>1</td>\n",
       "      <td>0</td>\n",
       "      <td>0</td>\n",
       "      <td>0</td>\n",
       "      <td>1</td>\n",
       "      <td>0</td>\n",
       "      <td>0</td>\n",
       "      <td>1</td>\n",
       "    </tr>\n",
       "    <tr>\n",
       "      <th>2</th>\n",
       "      <td>0</td>\n",
       "      <td>1</td>\n",
       "      <td>0</td>\n",
       "      <td>-24</td>\n",
       "      <td>-6</td>\n",
       "      <td>10</td>\n",
       "      <td>28</td>\n",
       "      <td>0</td>\n",
       "      <td>0</td>\n",
       "      <td>0</td>\n",
       "      <td>...</td>\n",
       "      <td>0</td>\n",
       "      <td>0</td>\n",
       "      <td>0</td>\n",
       "      <td>1</td>\n",
       "      <td>0</td>\n",
       "      <td>1</td>\n",
       "      <td>0</td>\n",
       "      <td>0</td>\n",
       "      <td>0</td>\n",
       "      <td>1</td>\n",
       "    </tr>\n",
       "    <tr>\n",
       "      <th>3</th>\n",
       "      <td>0</td>\n",
       "      <td>1</td>\n",
       "      <td>0</td>\n",
       "      <td>-20</td>\n",
       "      <td>0</td>\n",
       "      <td>10</td>\n",
       "      <td>50</td>\n",
       "      <td>0</td>\n",
       "      <td>0</td>\n",
       "      <td>0</td>\n",
       "      <td>...</td>\n",
       "      <td>0</td>\n",
       "      <td>0</td>\n",
       "      <td>0</td>\n",
       "      <td>1</td>\n",
       "      <td>0</td>\n",
       "      <td>0</td>\n",
       "      <td>0</td>\n",
       "      <td>1</td>\n",
       "      <td>1</td>\n",
       "      <td>0</td>\n",
       "    </tr>\n",
       "    <tr>\n",
       "      <th>4</th>\n",
       "      <td>0</td>\n",
       "      <td>1</td>\n",
       "      <td>0</td>\n",
       "      <td>-23</td>\n",
       "      <td>-2</td>\n",
       "      <td>10</td>\n",
       "      <td>9</td>\n",
       "      <td>0</td>\n",
       "      <td>0</td>\n",
       "      <td>1</td>\n",
       "      <td>...</td>\n",
       "      <td>0</td>\n",
       "      <td>0</td>\n",
       "      <td>1</td>\n",
       "      <td>0</td>\n",
       "      <td>0</td>\n",
       "      <td>0</td>\n",
       "      <td>0</td>\n",
       "      <td>1</td>\n",
       "      <td>1</td>\n",
       "      <td>0</td>\n",
       "    </tr>\n",
       "    <tr>\n",
       "      <th>...</th>\n",
       "      <td>...</td>\n",
       "      <td>...</td>\n",
       "      <td>...</td>\n",
       "      <td>...</td>\n",
       "      <td>...</td>\n",
       "      <td>...</td>\n",
       "      <td>...</td>\n",
       "      <td>...</td>\n",
       "      <td>...</td>\n",
       "      <td>...</td>\n",
       "      <td>...</td>\n",
       "      <td>...</td>\n",
       "      <td>...</td>\n",
       "      <td>...</td>\n",
       "      <td>...</td>\n",
       "      <td>...</td>\n",
       "      <td>...</td>\n",
       "      <td>...</td>\n",
       "      <td>...</td>\n",
       "      <td>...</td>\n",
       "      <td>...</td>\n",
       "    </tr>\n",
       "    <tr>\n",
       "      <th>10367</th>\n",
       "      <td>0</td>\n",
       "      <td>1</td>\n",
       "      <td>0</td>\n",
       "      <td>-21</td>\n",
       "      <td>-2</td>\n",
       "      <td>10</td>\n",
       "      <td>39</td>\n",
       "      <td>0</td>\n",
       "      <td>0</td>\n",
       "      <td>0</td>\n",
       "      <td>...</td>\n",
       "      <td>0</td>\n",
       "      <td>0</td>\n",
       "      <td>1</td>\n",
       "      <td>0</td>\n",
       "      <td>0</td>\n",
       "      <td>0</td>\n",
       "      <td>0</td>\n",
       "      <td>1</td>\n",
       "      <td>0</td>\n",
       "      <td>1</td>\n",
       "    </tr>\n",
       "    <tr>\n",
       "      <th>10368</th>\n",
       "      <td>0</td>\n",
       "      <td>1</td>\n",
       "      <td>0</td>\n",
       "      <td>-33</td>\n",
       "      <td>-3</td>\n",
       "      <td>10</td>\n",
       "      <td>14</td>\n",
       "      <td>1</td>\n",
       "      <td>0</td>\n",
       "      <td>0</td>\n",
       "      <td>...</td>\n",
       "      <td>0</td>\n",
       "      <td>0</td>\n",
       "      <td>0</td>\n",
       "      <td>1</td>\n",
       "      <td>0</td>\n",
       "      <td>0</td>\n",
       "      <td>0</td>\n",
       "      <td>1</td>\n",
       "      <td>0</td>\n",
       "      <td>1</td>\n",
       "    </tr>\n",
       "    <tr>\n",
       "      <th>10369</th>\n",
       "      <td>0</td>\n",
       "      <td>1</td>\n",
       "      <td>0</td>\n",
       "      <td>-19</td>\n",
       "      <td>1</td>\n",
       "      <td>10</td>\n",
       "      <td>39</td>\n",
       "      <td>0</td>\n",
       "      <td>0</td>\n",
       "      <td>0</td>\n",
       "      <td>...</td>\n",
       "      <td>0</td>\n",
       "      <td>0</td>\n",
       "      <td>0</td>\n",
       "      <td>1</td>\n",
       "      <td>0</td>\n",
       "      <td>1</td>\n",
       "      <td>0</td>\n",
       "      <td>0</td>\n",
       "      <td>0</td>\n",
       "      <td>1</td>\n",
       "    </tr>\n",
       "    <tr>\n",
       "      <th>10370</th>\n",
       "      <td>0</td>\n",
       "      <td>1</td>\n",
       "      <td>0</td>\n",
       "      <td>-14</td>\n",
       "      <td>-2</td>\n",
       "      <td>10</td>\n",
       "      <td>-4</td>\n",
       "      <td>0</td>\n",
       "      <td>0</td>\n",
       "      <td>0</td>\n",
       "      <td>...</td>\n",
       "      <td>0</td>\n",
       "      <td>0</td>\n",
       "      <td>1</td>\n",
       "      <td>0</td>\n",
       "      <td>0</td>\n",
       "      <td>0</td>\n",
       "      <td>0</td>\n",
       "      <td>1</td>\n",
       "      <td>0</td>\n",
       "      <td>1</td>\n",
       "    </tr>\n",
       "    <tr>\n",
       "      <th>10371</th>\n",
       "      <td>0</td>\n",
       "      <td>1</td>\n",
       "      <td>0</td>\n",
       "      <td>-17</td>\n",
       "      <td>11</td>\n",
       "      <td>10</td>\n",
       "      <td>110</td>\n",
       "      <td>0</td>\n",
       "      <td>1</td>\n",
       "      <td>0</td>\n",
       "      <td>...</td>\n",
       "      <td>0</td>\n",
       "      <td>0</td>\n",
       "      <td>0</td>\n",
       "      <td>1</td>\n",
       "      <td>0</td>\n",
       "      <td>0</td>\n",
       "      <td>0</td>\n",
       "      <td>1</td>\n",
       "      <td>0</td>\n",
       "      <td>1</td>\n",
       "    </tr>\n",
       "  </tbody>\n",
       "</table>\n",
       "<p>10372 rows × 24 columns</p>\n",
       "</div>"
      ],
      "text/plain": [
       "       is_unresolved  is_resolved  is_fatal  retail_and_recreation_mobility  \\\n",
       "0                  0            1         0                              -2   \n",
       "1                  0            1         0                             -23   \n",
       "2                  0            1         0                             -24   \n",
       "3                  0            1         0                             -20   \n",
       "4                  0            1         0                             -23   \n",
       "...              ...          ...       ...                             ...   \n",
       "10367              0            1         0                             -21   \n",
       "10368              0            1         0                             -33   \n",
       "10369              0            1         0                             -19   \n",
       "10370              0            1         0                             -14   \n",
       "10371              0            1         0                             -17   \n",
       "\n",
       "       grocery_and_pharmacy_mobility  month  parks_mobility  age_group_20s  \\\n",
       "0                                 15      9              92              0   \n",
       "1                                -10      9              85              0   \n",
       "2                                 -6     10              28              0   \n",
       "3                                  0     10              50              0   \n",
       "4                                 -2     10               9              0   \n",
       "...                              ...    ...             ...            ...   \n",
       "10367                             -2     10              39              0   \n",
       "10368                             -3     10              14              1   \n",
       "10369                              1     10              39              0   \n",
       "10370                             -2     10              -4              0   \n",
       "10371                             11     10             110              0   \n",
       "\n",
       "       age_group_30s  age_group_40s  ...  age_group_90+  age_group_<20  \\\n",
       "0                  0              1  ...              0              0   \n",
       "1                  0              0  ...              0              1   \n",
       "2                  0              0  ...              0              0   \n",
       "3                  0              0  ...              0              0   \n",
       "4                  0              1  ...              0              0   \n",
       "...              ...            ...  ...            ...            ...   \n",
       "10367              0              0  ...              0              0   \n",
       "10368              0              0  ...              0              0   \n",
       "10369              0              0  ...              0              0   \n",
       "10370              0              0  ...              0              0   \n",
       "10371              1              0  ...              0              0   \n",
       "\n",
       "       gender_FEMALE  gender_MALE  special_measure_Stage 2  \\\n",
       "0                  1            0                        0   \n",
       "1                  1            0                        0   \n",
       "2                  0            1                        0   \n",
       "3                  0            1                        0   \n",
       "4                  1            0                        0   \n",
       "...              ...          ...                      ...   \n",
       "10367              1            0                        0   \n",
       "10368              0            1                        0   \n",
       "10369              0            1                        0   \n",
       "10370              1            0                        0   \n",
       "10371              0            1                        0   \n",
       "\n",
       "       special_measure_Stage 2 Modified  special_measure_Stage 3  \\\n",
       "0                                     0                        1   \n",
       "1                                     0                        1   \n",
       "2                                     1                        0   \n",
       "3                                     0                        0   \n",
       "4                                     0                        0   \n",
       "...                                 ...                      ...   \n",
       "10367                                 0                        0   \n",
       "10368                                 0                        0   \n",
       "10369                                 1                        0   \n",
       "10370                                 0                        0   \n",
       "10371                                 0                        0   \n",
       "\n",
       "       special_measure_Stage 3 Modified  city_Ottawa  city_Toronto  \n",
       "0                                     0            0             1  \n",
       "1                                     0            0             1  \n",
       "2                                     0            0             1  \n",
       "3                                     1            1             0  \n",
       "4                                     1            1             0  \n",
       "...                                 ...          ...           ...  \n",
       "10367                                 1            0             1  \n",
       "10368                                 1            0             1  \n",
       "10369                                 0            0             1  \n",
       "10370                                 1            0             1  \n",
       "10371                                 1            0             1  \n",
       "\n",
       "[10372 rows x 24 columns]"
      ]
     },
     "execution_count": 81,
     "metadata": {},
     "output_type": "execute_result"
    }
   ],
   "source": [
    "X_train_cs"
   ]
  },
  {
   "cell_type": "code",
   "execution_count": 82,
   "metadata": {},
   "outputs": [
    {
     "data": {
      "text/plain": [
       "Index(['is_unresolved', 'is_resolved', 'is_fatal',\n",
       "       'retail_and_recreation_mobility', 'grocery_and_pharmacy_mobility',\n",
       "       'month', 'parks_mobility', 'age_group_20s', 'age_group_30s',\n",
       "       'age_group_40s', 'age_group_50s', 'age_group_60s', 'age_group_70s',\n",
       "       'age_group_80s', 'age_group_90+', 'age_group_<20', 'gender_FEMALE',\n",
       "       'gender_MALE', 'special_measure_Stage 2',\n",
       "       'special_measure_Stage 2 Modified', 'special_measure_Stage 3',\n",
       "       'special_measure_Stage 3 Modified', 'city_Ottawa', 'city_Toronto'],\n",
       "      dtype='object')"
      ]
     },
     "execution_count": 82,
     "metadata": {},
     "output_type": "execute_result"
    }
   ],
   "source": [
    "X_train_cs.columns"
   ]
  },
  {
   "cell_type": "code",
   "execution_count": 83,
   "metadata": {},
   "outputs": [],
   "source": [
    "X_train_cs.drop(['special_measure_Stage 2', 'special_measure_Stage 2 Modified','special_measure_Stage 3',\n",
    "                 'special_measure_Stage 3 Modified', 'parks_mobility','retail_and_recreation_mobility', \n",
    "                 'grocery_and_pharmacy_mobility','city_Ottawa',\n",
    "       'city_Toronto'], axis = 1, inplace=True)\n",
    "X_test_cs.drop(['special_measure_Stage 2', 'special_measure_Stage 2 Modified','special_measure_Stage 3',\n",
    "                'special_measure_Stage 3 Modified', 'parks_mobility','retail_and_recreation_mobility', \n",
    "                'grocery_and_pharmacy_mobility','city_Ottawa',\n",
    "       'city_Toronto'], axis = 1, inplace=True)"
   ]
  },
  {
   "cell_type": "code",
   "execution_count": 84,
   "metadata": {},
   "outputs": [
    {
     "data": {
      "text/plain": [
       "Index(['is_unresolved', 'is_resolved', 'is_fatal', 'month', 'age_group_20s',\n",
       "       'age_group_30s', 'age_group_40s', 'age_group_50s', 'age_group_60s',\n",
       "       'age_group_70s', 'age_group_80s', 'age_group_90+', 'age_group_<20',\n",
       "       'gender_FEMALE', 'gender_MALE'],\n",
       "      dtype='object')"
      ]
     },
     "execution_count": 84,
     "metadata": {},
     "output_type": "execute_result"
    }
   ],
   "source": [
    "X_test_cs.columns"
   ]
  },
  {
   "cell_type": "code",
   "execution_count": 85,
   "metadata": {},
   "outputs": [
    {
     "name": "stderr",
     "output_type": "stream",
     "text": [
      "WARNING:root:Time spent: 0.48\n"
     ]
    },
    {
     "data": {
      "text/plain": [
       "0.47815400000001773"
      ]
     },
     "execution_count": 85,
     "metadata": {},
     "output_type": "execute_result"
    }
   ],
   "source": [
    "t.start()\n",
    "\n",
    "gb_cs = GradientBoostingClassifier()\n",
    "gb_cs.fit(X_train_cs, y_train_cs.values.ravel())\n",
    "\n",
    "t.stop()"
   ]
  },
  {
   "cell_type": "code",
   "execution_count": 86,
   "metadata": {},
   "outputs": [
    {
     "name": "stdout",
     "output_type": "stream",
     "text": [
      "Recall of Decision Tree 0.00 %\n",
      "Precision of Decision Tree 0.00 %\n"
     ]
    },
    {
     "name": "stderr",
     "output_type": "stream",
     "text": [
      "c:\\users\\legia\\appdata\\local\\programs\\python\\python38\\lib\\site-packages\\sklearn\\metrics\\_classification.py:1245: UndefinedMetricWarning: Recall is ill-defined and being set to 0.0 due to no true samples. Use `zero_division` parameter to control this behavior.\n",
      "  _warn_prf(average, modifier, msg_start, len(result))\n"
     ]
    }
   ],
   "source": [
    "y_pred_cs = gb_cs.predict(X_test_cs)\n",
    "recall_cs = recall_score(y_pred_cs, y_test_cs) * 100\n",
    "precision_cs = precision_score(y_pred_cs, y_test_cs) * 100\n",
    "print(\"Recall of Decision Tree {:.2f} %\".format(recall_cs))\n",
    "print(\"Precision of Decision Tree {:.2f} %\".format(precision_cs))"
   ]
  },
  {
   "cell_type": "code",
   "execution_count": 87,
   "metadata": {},
   "outputs": [
    {
     "data": {
      "text/plain": [
       "0.7054741711642252"
      ]
     },
     "execution_count": 87,
     "metadata": {},
     "output_type": "execute_result"
    }
   ],
   "source": [
    "from sklearn.metrics import accuracy_score\n",
    "accuracy_score(y_pred_cs,y_test_cs)"
   ]
  },
  {
   "cell_type": "code",
   "execution_count": 88,
   "metadata": {},
   "outputs": [],
   "source": [
    "# from sklearn.tree import export_text\n",
    "# print(export_text(decision_tree = dt_ob,  feature_names = list(X_train_ob.columns), max_depth=4))"
   ]
  },
  {
   "cell_type": "code",
   "execution_count": 89,
   "metadata": {},
   "outputs": [
    {
     "data": {
      "text/plain": [
       "array([0, 1], dtype=int64)"
      ]
     },
     "execution_count": 89,
     "metadata": {},
     "output_type": "execute_result"
    }
   ],
   "source": [
    "gb_cs.classes_"
   ]
  },
  {
   "cell_type": "code",
   "execution_count": 90,
   "metadata": {},
   "outputs": [],
   "source": [
    "#  # Create a dot file\n",
    "# dotfile_ob = open(\"tree_ob.dot\", 'w')\n",
    "# tree.export_graphviz(dt_ob, out_file = dotfile_ob, feature_names = X_train_ob.columns)\n",
    "# dotfile_ob.close()        \n",
    "\n",
    "# # Create pdf and png from the dot data\n",
    "# dot_data_ob = StringIO()\n",
    "# tree.export_graphviz(dt_ob, out_file=dot_data_ob,  filled=True, rounded=True, \n",
    "#                      special_characters=True, feature_names =  X_train_ob.columns, class_names=True)\n",
    "# # graph = pydotplus.graph_from_dot_data(dot_data_ob.getvalue())  \n",
    "\n",
    "# # # graph.write_png(\"tree_ob.png\")\n",
    "# # # graph.write_pdf(\"tree_ob.pdf\")    \n",
    "\n",
    "\n",
    "# # # # img = imageio.imread(\"tree.png\")\n",
    "# # # # plt.figure(figsize=(15,15)) \n",
    "# # # # plt.imshow(img)\n",
    "# # # # plt.show()"
   ]
  },
  {
   "cell_type": "code",
   "execution_count": 91,
   "metadata": {},
   "outputs": [],
   "source": [
    "from imblearn.under_sampling import NearMiss \n",
    "nm = NearMiss()"
   ]
  },
  {
   "cell_type": "code",
   "execution_count": 92,
   "metadata": {},
   "outputs": [
    {
     "ename": "AttributeError",
     "evalue": "'NearMiss' object has no attribute 'fit_sample'",
     "output_type": "error",
     "traceback": [
      "\u001b[1;31m---------------------------------------------------------------------------\u001b[0m",
      "\u001b[1;31mAttributeError\u001b[0m                            Traceback (most recent call last)",
      "\u001b[1;32m<ipython-input-92-77826726087f>\u001b[0m in \u001b[0;36m<module>\u001b[1;34m\u001b[0m\n\u001b[1;32m----> 1\u001b[1;33m \u001b[0mX_train_miss\u001b[0m\u001b[1;33m,\u001b[0m \u001b[0my_train_miss\u001b[0m \u001b[1;33m=\u001b[0m \u001b[0mnm\u001b[0m\u001b[1;33m.\u001b[0m\u001b[0mfit_sample\u001b[0m\u001b[1;33m(\u001b[0m\u001b[0mX_train_cs\u001b[0m\u001b[1;33m,\u001b[0m \u001b[0my_train_cs\u001b[0m\u001b[1;33m)\u001b[0m\u001b[1;33m\u001b[0m\u001b[1;33m\u001b[0m\u001b[0m\n\u001b[0m\u001b[0;32m      2\u001b[0m \u001b[0mX_test_miss\u001b[0m\u001b[1;33m,\u001b[0m \u001b[0my_test_miss\u001b[0m \u001b[1;33m=\u001b[0m \u001b[0mnm\u001b[0m\u001b[1;33m.\u001b[0m\u001b[0mfit_sample\u001b[0m\u001b[1;33m(\u001b[0m\u001b[0mX_test_cs\u001b[0m\u001b[1;33m,\u001b[0m \u001b[0my_test_cs\u001b[0m\u001b[1;33m)\u001b[0m\u001b[1;33m\u001b[0m\u001b[1;33m\u001b[0m\u001b[0m\n",
      "\u001b[1;31mAttributeError\u001b[0m: 'NearMiss' object has no attribute 'fit_sample'"
     ]
    }
   ],
   "source": [
    "X_train_miss, y_train_miss = nm.fit_sample(X_train_cs, y_train_cs)\n",
    "X_test_miss, y_test_miss = nm.fit_sample(X_test_cs, y_test_cs)"
   ]
  },
  {
   "cell_type": "code",
   "execution_count": null,
   "metadata": {},
   "outputs": [],
   "source": [
    "print(\"Before NearMiss: \\n\", y_train_cs.acquisition_group_CS.value_counts())\n",
    "print(\"\\nAfter NearMiss: \\n\",y_train_miss.acquisition_group_CS.value_counts())\n",
    "print(\"Before NearMiss: \\n\", y_test_cs.acquisition_group_CS.value_counts())\n",
    "print(\"\\nAfter NearMiss: \\n\",y_test_miss.acquisition_group_CS.value_counts())"
   ]
  },
  {
   "cell_type": "code",
   "execution_count": null,
   "metadata": {},
   "outputs": [],
   "source": [
    "t.start()\n",
    "\n",
    "gb_miss = GradientBoostingClassifier()\n",
    "gb_miss.fit(X_train_miss, y_train_miss.values.ravel())\n",
    "\n",
    "t.stop()"
   ]
  },
  {
   "cell_type": "code",
   "execution_count": null,
   "metadata": {},
   "outputs": [],
   "source": [
    "y_pred_miss = gb_miss.predict(X_test_miss)\n",
    "recall_miss = recall_score(y_pred_miss, y_test_miss) * 100\n",
    "precision_miss = precision_score(y_pred_miss, y_test_miss) * 100\n",
    "print(\"Recall of Decision Tree {:.2f} %\".format(recall_miss))\n",
    "print(\"Precision of Decision Tree {:.2f} %\".format(precision_miss))"
   ]
  },
  {
   "cell_type": "code",
   "execution_count": null,
   "metadata": {},
   "outputs": [],
   "source": [
    "accuracy_score(y_pred_miss,y_test_miss)"
   ]
  },
  {
   "cell_type": "code",
   "execution_count": null,
   "metadata": {},
   "outputs": [],
   "source": []
  },
  {
   "cell_type": "code",
   "execution_count": null,
   "metadata": {},
   "outputs": [],
   "source": []
  }
 ],
 "metadata": {
  "kernelspec": {
   "display_name": "Python 3",
   "language": "python",
   "name": "python3"
  },
  "language_info": {
   "codemirror_mode": {
    "name": "ipython",
    "version": 3
   },
   "file_extension": ".py",
   "mimetype": "text/x-python",
   "name": "python",
   "nbconvert_exporter": "python",
   "pygments_lexer": "ipython3",
   "version": "3.8.8"
  }
 },
 "nbformat": 4,
 "nbformat_minor": 4
}
