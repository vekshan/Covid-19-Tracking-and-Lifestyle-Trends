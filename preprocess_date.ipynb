{
 "cells": [
  {
   "cell_type": "code",
   "execution_count": 1,
   "id": "superb-spoke",
   "metadata": {},
   "outputs": [],
   "source": [
    "import pandas as pd\n",
    "import numpy as np\n",
    "import holidays\n",
    "\n",
    "from datetime import datetime, timedelta"
   ]
  },
  {
   "cell_type": "code",
   "execution_count": 2,
   "id": "bibliographic-twelve",
   "metadata": {},
   "outputs": [],
   "source": [
    "dates_mar_2020_feb_2021 = pd.date_range(start=\"2020-03-31\", end=\"2021-02-28\")\n",
    "\n",
    "canada_ontario_holiday_dates_2020_2021 = {}\n",
    "\n",
    "for date in holidays.Canada(years=[2020, 2021]).items():\n",
    "    canada_ontario_holiday_dates_2020_2021[str(date[0])] = str(date[1])\n",
    "\n",
    "seasons = {1:\"Winter\", 2:\"Spring\", 3:\"Summer\", 4:\"Autumn\"}\n",
    "\n",
    "surrogate_keys = []\n",
    "day_list = []\n",
    "month_list = []\n",
    "year_list = []\n",
    "day_of_year = []\n",
    "day_of_week = []\n",
    "quarter = []\n",
    "week_in_year = []\n",
    "is_holiday = []\n",
    "holiday_names = []\n",
    "dates_season = []\n",
    "is_weekend = []\n",
    "is_week_day = []\n",
    "\n",
    "for i in range(len(dates_mar_2020_feb_2021)):\n",
    "    surrogate_keys.append(i + 100)\n",
    "    day_list.append(dates_mar_2020_feb_2021[i].day)\n",
    "    month_list.append(dates_mar_2020_feb_2021[i].month)\n",
    "    year_list.append(dates_mar_2020_feb_2021[i].year)\n",
    "    day_of_year.append(dates_mar_2020_feb_2021[i].day_of_year)\n",
    "    day_of_week.append(dates_mar_2020_feb_2021[i].day_of_week)\n",
    "    quarter.append(dates_mar_2020_feb_2021[i].quarter)\n",
    "    week_in_year.append(dates_mar_2020_feb_2021[i].weekofyear)\n",
    "    is_holiday.append(1 if str(dates_mar_2020_feb_2021[i]).split()[0] in canada_ontario_holiday_dates_2020_2021 else 0)\n",
    "    holiday_names.append(canada_ontario_holiday_dates_2020_2021[str(dates_mar_2020_feb_2021[i]).split()[0]] if str(dates_mar_2020_feb_2021[i]).split()[0] in canada_ontario_holiday_dates_2020_2021 else None)\n",
    "    dates_season.append(seasons[(dates_mar_2020_feb_2021[i].month%12 + 3)//3])\n",
    "    is_weekend.append(1 if dates_mar_2020_feb_2021[i].day_of_week >= 5 else 0)\n",
    "    is_week_day.append(1 if dates_mar_2020_feb_2021[i].day_of_week < 5 else 0)\n",
    "\n",
    "result = {\n",
    "    \"Date_surrogate_key\": surrogate_keys,\n",
    "    \"Full_Date\": dates_mar_2020_feb_2021,\n",
    "    \"Day\": day_list, \n",
    "    \"Month\": month_list, \n",
    "    \"Year\": year_list,\n",
    "    \"Day_Of_Year\": day_of_year,\n",
    "    \"Day_Of_Week\": day_of_week, \n",
    "    \"Week_In_Year\": week_in_year,\n",
    "    \"Quarter\": quarter,\n",
    "    \"Is_Weekend\": is_weekend, \n",
    "    \"Is_Week_Day\": is_week_day, \n",
    "    \"Is_Holiday\": is_holiday,\n",
    "    \"Holiday_Name\": holiday_names,\n",
    "    \"Season\": dates_season\n",
    "         }\n",
    "\n",
    "df_mar_2020_feb_2021 = pd.DataFrame(result)\n",
    "\n",
    "df_mar_2020_feb_2021.head()\n",
    "\n",
    "df_mar_2020_feb_2021.to_csv(\"Date_dimension.csv\", index = False, header = True)"
   ]
  },
  {
   "cell_type": "code",
   "execution_count": null,
   "id": "laden-margin",
   "metadata": {},
   "outputs": [],
   "source": []
  }
 ],
 "metadata": {
  "kernelspec": {
   "display_name": "Python 3",
   "language": "python",
   "name": "python3"
  },
  "language_info": {
   "codemirror_mode": {
    "name": "ipython",
    "version": 3
   },
   "file_extension": ".py",
   "mimetype": "text/x-python",
   "name": "python",
   "nbconvert_exporter": "python",
   "pygments_lexer": "ipython3",
   "version": "3.9.2"
  }
 },
 "nbformat": 4,
 "nbformat_minor": 5
}
