{
 "cells": [
  {
   "cell_type": "code",
   "execution_count": 3,
   "metadata": {},
   "outputs": [],
   "source": [
    "import pandas as pd\n",
    "import numpy as np\n",
    "import holidays"
   ]
  },
  {
   "cell_type": "code",
   "execution_count": 5,
   "metadata": {},
   "outputs": [
    {
     "ename": "AttributeError",
     "evalue": "'Timestamp' object has no attribute 'day_of_year'",
     "output_type": "error",
     "traceback": [
      "\u001b[1;31m---------------------------------------------------------------------------\u001b[0m",
      "\u001b[1;31mAttributeError\u001b[0m                            Traceback (most recent call last)",
      "\u001b[1;32m<ipython-input-5-d262d1266d53>\u001b[0m in \u001b[0;36m<module>\u001b[1;34m\u001b[0m\n\u001b[0;32m     27\u001b[0m     \u001b[0mmonth_list\u001b[0m\u001b[1;33m.\u001b[0m\u001b[0mappend\u001b[0m\u001b[1;33m(\u001b[0m\u001b[0mdates_july_oct_2020\u001b[0m\u001b[1;33m[\u001b[0m\u001b[0mi\u001b[0m\u001b[1;33m]\u001b[0m\u001b[1;33m.\u001b[0m\u001b[0mmonth\u001b[0m\u001b[1;33m)\u001b[0m\u001b[1;33m\u001b[0m\u001b[1;33m\u001b[0m\u001b[0m\n\u001b[0;32m     28\u001b[0m     \u001b[0myear_list\u001b[0m\u001b[1;33m.\u001b[0m\u001b[0mappend\u001b[0m\u001b[1;33m(\u001b[0m\u001b[0mdates_july_oct_2020\u001b[0m\u001b[1;33m[\u001b[0m\u001b[0mi\u001b[0m\u001b[1;33m]\u001b[0m\u001b[1;33m.\u001b[0m\u001b[0myear\u001b[0m\u001b[1;33m)\u001b[0m\u001b[1;33m\u001b[0m\u001b[1;33m\u001b[0m\u001b[0m\n\u001b[1;32m---> 29\u001b[1;33m     \u001b[0mday_of_year\u001b[0m\u001b[1;33m.\u001b[0m\u001b[0mappend\u001b[0m\u001b[1;33m(\u001b[0m\u001b[0mdates_july_oct_2020\u001b[0m\u001b[1;33m[\u001b[0m\u001b[0mi\u001b[0m\u001b[1;33m,\u001b[0m\u001b[1;33m]\u001b[0m\u001b[1;33m.\u001b[0m\u001b[0mday_of_year\u001b[0m\u001b[1;33m)\u001b[0m\u001b[1;33m\u001b[0m\u001b[1;33m\u001b[0m\u001b[0m\n\u001b[0m\u001b[0;32m     30\u001b[0m     \u001b[0mday_of_week\u001b[0m\u001b[1;33m.\u001b[0m\u001b[0mappend\u001b[0m\u001b[1;33m(\u001b[0m\u001b[0mdates_july_oct_2020\u001b[0m\u001b[1;33m[\u001b[0m\u001b[0mi\u001b[0m\u001b[1;33m]\u001b[0m\u001b[1;33m.\u001b[0m\u001b[0mday_of_week\u001b[0m\u001b[1;33m)\u001b[0m\u001b[1;33m\u001b[0m\u001b[1;33m\u001b[0m\u001b[0m\n\u001b[0;32m     31\u001b[0m     \u001b[0mquarter\u001b[0m\u001b[1;33m.\u001b[0m\u001b[0mappend\u001b[0m\u001b[1;33m(\u001b[0m\u001b[0mdates_july_oct_2020\u001b[0m\u001b[1;33m[\u001b[0m\u001b[0mi\u001b[0m\u001b[1;33m]\u001b[0m\u001b[1;33m.\u001b[0m\u001b[0mquarter\u001b[0m\u001b[1;33m)\u001b[0m\u001b[1;33m\u001b[0m\u001b[1;33m\u001b[0m\u001b[0m\n",
      "\u001b[1;31mAttributeError\u001b[0m: 'Timestamp' object has no attribute 'day_of_year'"
     ]
    }
   ],
   "source": [
    "dates_july_oct_2020 = pd.date_range(start=\"2020-07-01\", end=\"2020-10-31\")\n",
    "\n",
    "canada_ontario_holiday_dates_2020 = {}\n",
    "\n",
    "for date in holidays.Canada(years=2020).items():\n",
    "    canada_ontario_holiday_dates_2020[str(date[0])] = str(date[1])\n",
    "\n",
    "seasons = {1:\"Winter\", 2:\"Spring\", 3:\"Summer\", 4:\"Autumn\"}\n",
    "\n",
    "surrogate_keys = []\n",
    "day_list = []\n",
    "month_list = []\n",
    "year_list = []\n",
    "day_of_year = []\n",
    "day_of_week = []\n",
    "quarter = []\n",
    "week_in_year = []\n",
    "is_holiday = []\n",
    "holiday_names = []\n",
    "dates_season = []\n",
    "is_weekend = []\n",
    "is_week_day = []\n",
    "\n",
    "for i in range(len(dates_july_oct_2020)):\n",
    "    surrogate_keys.append(i + 100)\n",
    "    day_list.append(dates_july_oct_2020[i].day)\n",
    "    month_list.append(dates_july_oct_2020[i].month)\n",
    "    year_list.append(dates_july_oct_2020[i].year)\n",
    "    day_of_year.append(dates_july_oct_2020[i].day_of_year)\n",
    "    day_of_week.append(dates_july_oct_2020[i].day_of_week)\n",
    "    quarter.append(dates_july_oct_2020[i].quarter)\n",
    "    week_in_year.append(dates_july_oct_2020[i].weekofyear)\n",
    "    is_holiday.append(1 if str(dates_july_oct_2020[i]).split()[0] in canada_ontario_holiday_dates_2020 else 0)\n",
    "    holiday_names.append(canada_ontario_holiday_dates_2020[str(dates_july_oct_2020[i]).split()[0]] if str(dates_july_oct_2020[i]).split()[0] in canada_ontario_holiday_dates_2020 else None)\n",
    "    dates_season.append(seasons[(dates_july_oct_2020[i].month%12 + 3)//3])\n",
    "    is_weekend.append(1 if dates_july_oct_2020[i].day_of_week >= 5 else 0)\n",
    "    is_week_day.append(1 if dates_july_oct_2020[i].day_of_week < 5 else 0)\n",
    "\n",
    "result = {\n",
    "    \"Date_surrogate_key\": surrogate_keys,\n",
    "    \"Full_Date\": dates_july_oct_2020,\n",
    "    \"Day\": day_list, \n",
    "    \"Month\": month_list, \n",
    "    \"Year\": year_list,\n",
    "    \"Day_Of_Year\": day_of_year,\n",
    "    \"Day_Of_Week\": day_of_week, \n",
    "    \"Week_In_Year\": week_in_year,\n",
    "    \"Quarter\": quarter,\n",
    "    \"Is_Weekend\": is_weekend, \n",
    "    \"Is_Week_Day\": is_week_day, \n",
    "    \"Is_Holiday\": is_holiday,\n",
    "    \"Holiday_Name\": holiday_names,\n",
    "    \"Season\": dates_season\n",
    "         }\n",
    "\n",
    "df_july_oct_2020 = pd.DataFrame(result)\n",
    "\n",
    "df_july_oct_2020.head()"
   ]
  },
  {
   "cell_type": "code",
   "execution_count": null,
   "metadata": {},
   "outputs": [],
   "source": [
    "df_july_oct_2020.to_csv(\"Date_dimension.csv\",index = False, header=True )"
   ]
  },
  {
   "cell_type": "code",
   "execution_count": null,
   "metadata": {},
   "outputs": [],
   "source": []
  }
 ],
 "metadata": {
  "kernelspec": {
   "display_name": "Python 3",
   "language": "python",
   "name": "python3"
  },
  "language_info": {
   "codemirror_mode": {
    "name": "ipython",
    "version": 3
   },
   "file_extension": ".py",
   "mimetype": "text/x-python",
   "name": "python",
   "nbconvert_exporter": "python",
   "pygments_lexer": "ipython3",
   "version": "3.8.5"
  }
 },
 "nbformat": 4,
 "nbformat_minor": 5
}
